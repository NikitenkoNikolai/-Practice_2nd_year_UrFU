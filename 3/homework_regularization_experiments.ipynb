{
 "cells": [
  {
   "cell_type": "markdown",
   "id": "5e88dd5a",
   "metadata": {},
   "source": [
    "# Задание 3: Эксперименты с регуляризацией"
   ]
  },
  {
   "cell_type": "code",
   "execution_count": 3,
   "id": "1a4ffb6e",
   "metadata": {},
   "outputs": [],
   "source": [
    "import torchvision\n",
    "import torchvision.transforms as transforms\n",
    "from torch.utils.data import Dataset, DataLoader\n",
    "import torch\n",
    "import torch.nn as nn\n",
    "import torch.optim as optim\n",
    "from tqdm import tqdm\n",
    "\n",
    "\n",
    "\n",
    "class MNISTDataset(Dataset):\n",
    "    def __init__(self, train=True, transform=None):\n",
    "        super().__init__()\n",
    "        self.dataset = torchvision.datasets.MNIST(\n",
    "            root='./data', \n",
    "            train=train, \n",
    "            download=True, \n",
    "            transform=transform\n",
    "        )\n",
    "    \n",
    "    def __len__(self):\n",
    "        return len(self.dataset)\n",
    "    \n",
    "    def __getitem__(self, idx):\n",
    "        return self.dataset[idx]\n",
    "\n",
    "\n",
    "class CIFARDataset(Dataset):\n",
    "    def __init__(self, train=True, transform=None):\n",
    "        super().__init__()\n",
    "        self.dataset = torchvision.datasets.CIFAR10(\n",
    "            root='./data', \n",
    "            train=train, \n",
    "            download=True, \n",
    "            transform=transform\n",
    "        )\n",
    "    \n",
    "    def __len__(self):\n",
    "        return len(self.dataset)\n",
    "    \n",
    "    def __getitem__(self, idx):\n",
    "        return self.dataset[idx]\n",
    "\n",
    "\n",
    "def get_mnist_loaders(batch_size=64):\n",
    "    transform = transforms.Compose([\n",
    "        transforms.ToTensor(),\n",
    "        transforms.Normalize((0.1307,), (0.3081,))\n",
    "    ])\n",
    "    \n",
    "    train_dataset = MNISTDataset(train=True, transform=transform)\n",
    "    test_dataset = MNISTDataset(train=False, transform=transform)\n",
    "    \n",
    "    train_loader = DataLoader(train_dataset, batch_size=batch_size, shuffle=True)\n",
    "    test_loader = DataLoader(test_dataset, batch_size=batch_size, shuffle=False)\n",
    "    \n",
    "    return train_loader, test_loader\n",
    "\n",
    "\n",
    "def get_cifar_loaders(batch_size=64):\n",
    "    transform = transforms.Compose([\n",
    "        transforms.ToTensor(),\n",
    "        transforms.Normalize((0.4914, 0.4822, 0.4465), (0.2023, 0.1994, 0.2010))\n",
    "    ])\n",
    "    \n",
    "    train_dataset = CIFARDataset(train=True, transform=transform)\n",
    "    test_dataset = CIFARDataset(train=False, transform=transform)\n",
    "    \n",
    "    train_loader = DataLoader(train_dataset, batch_size=batch_size, shuffle=True)\n",
    "    test_loader = DataLoader(test_dataset, batch_size=batch_size, shuffle=False)\n",
    "    \n",
    "    return train_loader, test_loader "
   ]
  },
  {
   "cell_type": "code",
   "execution_count": 4,
   "id": "5c4eded6",
   "metadata": {},
   "outputs": [],
   "source": [
    "import torch\n",
    "import torch.nn as nn\n",
    "import json\n",
    "\n",
    "class FullyConnectedModel(nn.Module):\n",
    "    def __init__(self, config_path=None, input_size=None, num_classes=None, **kwargs):\n",
    "        super().__init__()\n",
    "        \n",
    "        if config_path:\n",
    "            self.config = self.load_config(config_path)\n",
    "        else:\n",
    "            self.config = kwargs\n",
    "\n",
    "        self.input_size = input_size or self.config.get('input_size', 784)\n",
    "        self.num_classes = num_classes or self.config.get('num_classes', 10)\n",
    "\n",
    "        self.layers = self._build_layers()\n",
    "\n",
    "    def load_config(self, config_path):\n",
    "        \"\"\"\n",
    "        Загружает конфигурацию из JSON файла\n",
    "        \"\"\"\n",
    "        with open(config_path, 'r') as f:\n",
    "            return json.load(f)\n",
    "\n",
    "    def _build_layers(self):\n",
    "        layers = []\n",
    "        prev_size = self.input_size\n",
    "\n",
    "        layer_config = self.config.get('layers', [])\n",
    "\n",
    "        for layer_spec in layer_config:\n",
    "            layer_type = layer_spec['type']\n",
    "\n",
    "            match layer_type:\n",
    "                case 'linear':\n",
    "                    out_size = layer_spec['size']\n",
    "                    layers.append(nn.Linear(prev_size, out_size))\n",
    "                    prev_size = out_size\n",
    "\n",
    "                case 'relu':\n",
    "                    layers.append(nn.ReLU())\n",
    "\n",
    "                case 'sigmoid':\n",
    "                    layers.append(nn.Sigmoid())\n",
    "\n",
    "                case 'tanh':\n",
    "                    layers.append(nn.Tanh())\n",
    "\n",
    "                case 'dropout':\n",
    "                    rate = layer_spec.get('rate', 0.5)\n",
    "                    layers.append(nn.Dropout(rate))\n",
    "\n",
    "                case 'batch_norm':\n",
    "                    layers.append(nn.BatchNorm1d(prev_size))\n",
    "\n",
    "                case 'layer_norm':\n",
    "                    layers.append(nn.LayerNorm(prev_size))\n",
    "\n",
    "                case _:\n",
    "                    raise ValueError(f\"Неизвестный тип слоя: {layer_type}\")\n",
    "\n",
    "        # Всегда добавляем финальный слой для классификации\n",
    "        layers.append(nn.Linear(prev_size, self.num_classes))\n",
    "\n",
    "        return nn.Sequential(*layers)\n",
    "\n",
    "    def forward(self, x):\n",
    "        x = x.view(x.size(0), -1)  # \"выпрямляем\" картинку в вектор\n",
    "        return self.layers(x)"
   ]
  },
  {
   "cell_type": "code",
   "execution_count": 5,
   "id": "db6190b2",
   "metadata": {},
   "outputs": [],
   "source": [
    "def run_epoch(model, data_loader, criterion, optimizer = None, device='cpu', is_test=False):\n",
    "    if is_test:\n",
    "        model.eval()\n",
    "    else:\n",
    "        model.train()\n",
    "    \n",
    "    total_loss = 0\n",
    "    correct = 0\n",
    "    total = 0\n",
    "    \n",
    "    for batch_idx, (data, target) in enumerate(tqdm(data_loader)):\n",
    "        data, target = data.to(device), target.to(device)\n",
    "        \n",
    "        if not is_test and optimizer is not None:\n",
    "            optimizer.zero_grad()\n",
    "        \n",
    "        output = model(data)\n",
    "        loss = criterion(output, target)\n",
    "        \n",
    "        if not is_test and optimizer is not None:\n",
    "            loss.backward()\n",
    "            optimizer.step()\n",
    "        \n",
    "        total_loss += loss.item()\n",
    "        pred = output.argmax(dim=1, keepdim=True)\n",
    "        correct += pred.eq(target.view_as(pred)).sum().item()\n",
    "        total += target.size(0)\n",
    "    \n",
    "    return total_loss / len(data_loader), correct / total\n",
    "\n",
    "def train_model(model, train_loader, test_loader, epochs=10, lr=0.001, device='cpu'):\n",
    "    criterion = nn.CrossEntropyLoss()\n",
    "    optimizer = optim.Adam(model.parameters(), lr=lr)\n",
    "    \n",
    "    train_losses, train_accs = [], []\n",
    "    test_losses, test_accs = [], []\n",
    "    \n",
    "    for epoch in range(epochs):\n",
    "        train_loss, train_acc = run_epoch(model, train_loader, criterion, optimizer, device, is_test=False)\n",
    "        test_loss, test_acc = run_epoch(model, test_loader, criterion, None, device, is_test=True)\n",
    "        \n",
    "        train_losses.append(train_loss)\n",
    "        train_accs.append(train_acc)\n",
    "        test_losses.append(test_loss)\n",
    "        test_accs.append(test_acc)\n",
    "        \n",
    "        print(f'Epoch {epoch+1}/{epochs}:')\n",
    "        print(f'Train Loss: {train_loss:.4f}, Train Acc: {train_acc:.4f}')\n",
    "        print(f'Test Loss: {test_loss:.4f}, Test Acc: {test_acc:.4f}')\n",
    "        print('-' * 50)\n",
    "    \n",
    "    return {\n",
    "        'train_losses': train_losses,\n",
    "        'train_accs': train_accs,\n",
    "        'test_losses': test_losses,\n",
    "        'test_accs': test_accs\n",
    "    } "
   ]
  },
  {
   "cell_type": "markdown",
   "id": "d26b1645",
   "metadata": {},
   "source": [
    "# 3.1 Сравнение техник регуляризации"
   ]
  },
  {
   "cell_type": "markdown",
   "id": "e592ba13",
   "metadata": {},
   "source": [
    "Единая архитектура"
   ]
  },
  {
   "cell_type": "code",
   "execution_count": 6,
   "id": "ba3d833c",
   "metadata": {},
   "outputs": [],
   "source": [
    "base_config = {\n",
    "    \"input_size\": 784,\n",
    "    \"num_classes\": 10,\n",
    "    \"layers\": [\n",
    "        {\"type\": \"linear\", \"size\": 512},\n",
    "        {\"type\": \"relu\"},\n",
    "        \n",
    "        {\"type\": \"linear\", \"size\": 256},\n",
    "        {\"type\": \"relu\"}\n",
    "    ]\n",
    "} "
   ]
  },
  {
   "cell_type": "markdown",
   "id": "dff2dea6",
   "metadata": {},
   "source": [
    "Создаём конфиги с разными регуляризациями"
   ]
  },
  {
   "cell_type": "code",
   "execution_count": 11,
   "id": "dcebaab1",
   "metadata": {},
   "outputs": [],
   "source": [
    "configs = {\n",
    "    \"no_reg\": {\n",
    "        \"config\": {\n",
    "            \"input_size\": 784,\n",
    "            \"num_classes\": 10,\n",
    "            \"layers\": [\n",
    "                {\"type\": \"linear\", \"size\": 512},\n",
    "                {\"type\": \"relu\"},\n",
    "                {\"type\": \"linear\", \"size\": 256},\n",
    "                {\"type\": \"relu\"}\n",
    "            ]\n",
    "        },\n",
    "        \"label\": \"Без регуляризации\"\n",
    "    },\n",
    "    \"dropout\": {\n",
    "        \"config\": {\n",
    "            \"input_size\": 784,\n",
    "            \"num_classes\": 10,\n",
    "            \"layers\": [\n",
    "                {\"type\": \"linear\", \"size\": 512},\n",
    "                {\"type\": \"relu\"},\n",
    "                {\"type\": \"dropout\", \"rate\": 0.4},\n",
    "                {\"type\": \"linear\", \"size\": 256},\n",
    "                {\"type\": \"relu\"},\n",
    "                {\"type\": \"dropout\", \"rate\": 0.4}\n",
    "            ]\n",
    "        },\n",
    "        \"label\": \"Dropout\"\n",
    "    },\n",
    "    \"batch_norm\": {\n",
    "        \"config\": {\n",
    "            \"input_size\": 784,\n",
    "            \"num_classes\": 10,\n",
    "            \"layers\": [\n",
    "                {\"type\": \"linear\", \"size\": 512},\n",
    "                {\"type\": \"relu\"},\n",
    "                {\"type\": \"batch_norm\"},\n",
    "                {\"type\": \"linear\", \"size\": 256},\n",
    "                {\"type\": \"relu\"},\n",
    "                {\"type\": \"batch_norm\"}\n",
    "            ]\n",
    "        },\n",
    "        \"label\": \"BatchNorm\"\n",
    "    },\n",
    "    \"both\": {\n",
    "        \"config\": {\n",
    "            \"input_size\": 784,\n",
    "            \"num_classes\": 10,\n",
    "            \"layers\": [\n",
    "                {\"type\": \"linear\", \"size\": 512},\n",
    "                {\"type\": \"relu\"},\n",
    "                {\"type\": \"batch_norm\"},\n",
    "                {\"type\": \"dropout\", \"rate\": 0.4},\n",
    "                {\"type\": \"linear\", \"size\": 256},\n",
    "                {\"type\": \"relu\"},\n",
    "                {\"type\": \"batch_norm\"},\n",
    "                {\"type\": \"dropout\", \"rate\": 0.4}\n",
    "            ]\n",
    "        },\n",
    "        \"label\": \"Dropout + BatchNorm\"\n",
    "    },\n",
    "    \"l2\": {\n",
    "        \"config\": {\n",
    "            \"input_size\": 784,\n",
    "            \"num_classes\": 10,\n",
    "            \"layers\": [\n",
    "                {\"type\": \"linear\", \"size\": 512},\n",
    "                {\"type\": \"relu\"},\n",
    "                {\"type\": \"linear\", \"size\": 256},\n",
    "                {\"type\": \"relu\"}\n",
    "            ]\n",
    "        },\n",
    "        \"label\": \"L2 Regularization\",\n",
    "        \"use_l2\": True\n",
    "    }\n",
    "}"
   ]
  },
  {
   "cell_type": "markdown",
   "id": "601d4055",
   "metadata": {},
   "source": [
    "Обучаем все модели"
   ]
  },
  {
   "cell_type": "code",
   "execution_count": 8,
   "id": "3bac42a0",
   "metadata": {},
   "outputs": [
    {
     "name": "stdout",
     "output_type": "stream",
     "text": [
      "\n",
      "=== Обучение: No Regularization ===\n"
     ]
    },
    {
     "name": "stderr",
     "output_type": "stream",
     "text": [
      "100%|████████████████████████████████████████████████████████████████████████████████| 938/938 [00:32<00:00, 28.87it/s]\n",
      "100%|████████████████████████████████████████████████████████████████████████████████| 157/157 [00:03<00:00, 39.69it/s]\n"
     ]
    },
    {
     "name": "stdout",
     "output_type": "stream",
     "text": [
      "Epoch 1/10:\n",
      "Train Loss: 0.2024, Train Acc: 0.9375\n",
      "Test Loss: 0.1083, Test Acc: 0.9638\n",
      "--------------------------------------------------\n"
     ]
    },
    {
     "name": "stderr",
     "output_type": "stream",
     "text": [
      "100%|████████████████████████████████████████████████████████████████████████████████| 938/938 [00:32<00:00, 28.60it/s]\n",
      "100%|████████████████████████████████████████████████████████████████████████████████| 157/157 [00:05<00:00, 30.30it/s]\n"
     ]
    },
    {
     "name": "stdout",
     "output_type": "stream",
     "text": [
      "Epoch 2/10:\n",
      "Train Loss: 0.0870, Train Acc: 0.9729\n",
      "Test Loss: 0.0891, Test Acc: 0.9720\n",
      "--------------------------------------------------\n"
     ]
    },
    {
     "name": "stderr",
     "output_type": "stream",
     "text": [
      "100%|████████████████████████████████████████████████████████████████████████████████| 938/938 [00:32<00:00, 28.84it/s]\n",
      "100%|████████████████████████████████████████████████████████████████████████████████| 157/157 [00:03<00:00, 39.65it/s]\n"
     ]
    },
    {
     "name": "stdout",
     "output_type": "stream",
     "text": [
      "Epoch 3/10:\n",
      "Train Loss: 0.0611, Train Acc: 0.9808\n",
      "Test Loss: 0.0702, Test Acc: 0.9769\n",
      "--------------------------------------------------\n"
     ]
    },
    {
     "name": "stderr",
     "output_type": "stream",
     "text": [
      "100%|████████████████████████████████████████████████████████████████████████████████| 938/938 [00:32<00:00, 29.05it/s]\n",
      "100%|████████████████████████████████████████████████████████████████████████████████| 157/157 [00:04<00:00, 38.57it/s]\n"
     ]
    },
    {
     "name": "stdout",
     "output_type": "stream",
     "text": [
      "Epoch 4/10:\n",
      "Train Loss: 0.0446, Train Acc: 0.9860\n",
      "Test Loss: 0.0829, Test Acc: 0.9749\n",
      "--------------------------------------------------\n"
     ]
    },
    {
     "name": "stderr",
     "output_type": "stream",
     "text": [
      "100%|████████████████████████████████████████████████████████████████████████████████| 938/938 [00:35<00:00, 26.65it/s]\n",
      "100%|████████████████████████████████████████████████████████████████████████████████| 157/157 [00:04<00:00, 32.37it/s]\n"
     ]
    },
    {
     "name": "stdout",
     "output_type": "stream",
     "text": [
      "Epoch 5/10:\n",
      "Train Loss: 0.0393, Train Acc: 0.9871\n",
      "Test Loss: 0.0771, Test Acc: 0.9788\n",
      "--------------------------------------------------\n"
     ]
    },
    {
     "name": "stderr",
     "output_type": "stream",
     "text": [
      "100%|████████████████████████████████████████████████████████████████████████████████| 938/938 [00:32<00:00, 29.22it/s]\n",
      "100%|████████████████████████████████████████████████████████████████████████████████| 157/157 [00:03<00:00, 39.61it/s]\n"
     ]
    },
    {
     "name": "stdout",
     "output_type": "stream",
     "text": [
      "Epoch 6/10:\n",
      "Train Loss: 0.0329, Train Acc: 0.9892\n",
      "Test Loss: 0.0968, Test Acc: 0.9741\n",
      "--------------------------------------------------\n"
     ]
    },
    {
     "name": "stderr",
     "output_type": "stream",
     "text": [
      "100%|████████████████████████████████████████████████████████████████████████████████| 938/938 [00:33<00:00, 27.92it/s]\n",
      "100%|████████████████████████████████████████████████████████████████████████████████| 157/157 [00:04<00:00, 38.73it/s]\n"
     ]
    },
    {
     "name": "stdout",
     "output_type": "stream",
     "text": [
      "Epoch 7/10:\n",
      "Train Loss: 0.0276, Train Acc: 0.9908\n",
      "Test Loss: 0.1040, Test Acc: 0.9729\n",
      "--------------------------------------------------\n"
     ]
    },
    {
     "name": "stderr",
     "output_type": "stream",
     "text": [
      "100%|████████████████████████████████████████████████████████████████████████████████| 938/938 [00:33<00:00, 27.73it/s]\n",
      "100%|████████████████████████████████████████████████████████████████████████████████| 157/157 [00:04<00:00, 32.15it/s]\n"
     ]
    },
    {
     "name": "stdout",
     "output_type": "stream",
     "text": [
      "Epoch 8/10:\n",
      "Train Loss: 0.0256, Train Acc: 0.9916\n",
      "Test Loss: 0.0777, Test Acc: 0.9814\n",
      "--------------------------------------------------\n"
     ]
    },
    {
     "name": "stderr",
     "output_type": "stream",
     "text": [
      "100%|████████████████████████████████████████████████████████████████████████████████| 938/938 [00:32<00:00, 28.43it/s]\n",
      "100%|████████████████████████████████████████████████████████████████████████████████| 157/157 [00:03<00:00, 39.88it/s]\n"
     ]
    },
    {
     "name": "stdout",
     "output_type": "stream",
     "text": [
      "Epoch 9/10:\n",
      "Train Loss: 0.0227, Train Acc: 0.9925\n",
      "Test Loss: 0.0842, Test Acc: 0.9800\n",
      "--------------------------------------------------\n"
     ]
    },
    {
     "name": "stderr",
     "output_type": "stream",
     "text": [
      "100%|████████████████████████████████████████████████████████████████████████████████| 938/938 [00:33<00:00, 27.92it/s]\n",
      "100%|████████████████████████████████████████████████████████████████████████████████| 157/157 [00:04<00:00, 35.88it/s]\n"
     ]
    },
    {
     "name": "stdout",
     "output_type": "stream",
     "text": [
      "Epoch 10/10:\n",
      "Train Loss: 0.0187, Train Acc: 0.9934\n",
      "Test Loss: 0.1069, Test Acc: 0.9786\n",
      "--------------------------------------------------\n",
      "\n",
      "=== Обучение: Dropout (0.1) ===\n"
     ]
    },
    {
     "name": "stderr",
     "output_type": "stream",
     "text": [
      "100%|████████████████████████████████████████████████████████████████████████████████| 938/938 [00:32<00:00, 29.23it/s]\n",
      "100%|████████████████████████████████████████████████████████████████████████████████| 157/157 [00:04<00:00, 31.69it/s]\n"
     ]
    },
    {
     "name": "stdout",
     "output_type": "stream",
     "text": [
      "Epoch 1/10:\n",
      "Train Loss: 0.2068, Train Acc: 0.9361\n",
      "Test Loss: 0.1158, Test Acc: 0.9654\n",
      "--------------------------------------------------\n"
     ]
    },
    {
     "name": "stderr",
     "output_type": "stream",
     "text": [
      "100%|████████████████████████████████████████████████████████████████████████████████| 938/938 [00:33<00:00, 27.82it/s]\n",
      "100%|████████████████████████████████████████████████████████████████████████████████| 157/157 [00:04<00:00, 38.98it/s]\n"
     ]
    },
    {
     "name": "stdout",
     "output_type": "stream",
     "text": [
      "Epoch 2/10:\n",
      "Train Loss: 0.0866, Train Acc: 0.9731\n",
      "Test Loss: 0.0869, Test Acc: 0.9714\n",
      "--------------------------------------------------\n"
     ]
    },
    {
     "name": "stderr",
     "output_type": "stream",
     "text": [
      "100%|████████████████████████████████████████████████████████████████████████████████| 938/938 [00:32<00:00, 28.94it/s]\n",
      "100%|████████████████████████████████████████████████████████████████████████████████| 157/157 [00:04<00:00, 36.33it/s]\n"
     ]
    },
    {
     "name": "stdout",
     "output_type": "stream",
     "text": [
      "Epoch 3/10:\n",
      "Train Loss: 0.0631, Train Acc: 0.9802\n",
      "Test Loss: 0.0748, Test Acc: 0.9777\n",
      "--------------------------------------------------\n"
     ]
    },
    {
     "name": "stderr",
     "output_type": "stream",
     "text": [
      "100%|████████████████████████████████████████████████████████████████████████████████| 938/938 [00:34<00:00, 27.51it/s]\n",
      "100%|████████████████████████████████████████████████████████████████████████████████| 157/157 [00:04<00:00, 34.11it/s]\n"
     ]
    },
    {
     "name": "stdout",
     "output_type": "stream",
     "text": [
      "Epoch 4/10:\n",
      "Train Loss: 0.0485, Train Acc: 0.9846\n",
      "Test Loss: 0.0794, Test Acc: 0.9768\n",
      "--------------------------------------------------\n"
     ]
    },
    {
     "name": "stderr",
     "output_type": "stream",
     "text": [
      "100%|████████████████████████████████████████████████████████████████████████████████| 938/938 [00:32<00:00, 28.72it/s]\n",
      "100%|████████████████████████████████████████████████████████████████████████████████| 157/157 [00:03<00:00, 39.94it/s]\n"
     ]
    },
    {
     "name": "stdout",
     "output_type": "stream",
     "text": [
      "Epoch 5/10:\n",
      "Train Loss: 0.0406, Train Acc: 0.9870\n",
      "Test Loss: 0.0761, Test Acc: 0.9789\n",
      "--------------------------------------------------\n"
     ]
    },
    {
     "name": "stderr",
     "output_type": "stream",
     "text": [
      "100%|████████████████████████████████████████████████████████████████████████████████| 938/938 [00:33<00:00, 27.90it/s]\n",
      "100%|████████████████████████████████████████████████████████████████████████████████| 157/157 [00:04<00:00, 33.11it/s]\n"
     ]
    },
    {
     "name": "stdout",
     "output_type": "stream",
     "text": [
      "Epoch 6/10:\n",
      "Train Loss: 0.0360, Train Acc: 0.9882\n",
      "Test Loss: 0.0829, Test Acc: 0.9788\n",
      "--------------------------------------------------\n"
     ]
    },
    {
     "name": "stderr",
     "output_type": "stream",
     "text": [
      "100%|████████████████████████████████████████████████████████████████████████████████| 938/938 [00:33<00:00, 27.59it/s]\n",
      "100%|████████████████████████████████████████████████████████████████████████████████| 157/157 [00:04<00:00, 37.76it/s]\n"
     ]
    },
    {
     "name": "stdout",
     "output_type": "stream",
     "text": [
      "Epoch 7/10:\n",
      "Train Loss: 0.0259, Train Acc: 0.9922\n",
      "Test Loss: 0.0921, Test Acc: 0.9770\n",
      "--------------------------------------------------\n"
     ]
    },
    {
     "name": "stderr",
     "output_type": "stream",
     "text": [
      "100%|████████████████████████████████████████████████████████████████████████████████| 938/938 [00:32<00:00, 28.51it/s]\n",
      "100%|████████████████████████████████████████████████████████████████████████████████| 157/157 [00:05<00:00, 31.00it/s]\n"
     ]
    },
    {
     "name": "stdout",
     "output_type": "stream",
     "text": [
      "Epoch 8/10:\n",
      "Train Loss: 0.0266, Train Acc: 0.9915\n",
      "Test Loss: 0.0768, Test Acc: 0.9798\n",
      "--------------------------------------------------\n"
     ]
    },
    {
     "name": "stderr",
     "output_type": "stream",
     "text": [
      "100%|████████████████████████████████████████████████████████████████████████████████| 938/938 [00:34<00:00, 27.15it/s]\n",
      "100%|████████████████████████████████████████████████████████████████████████████████| 157/157 [00:04<00:00, 32.45it/s]\n"
     ]
    },
    {
     "name": "stdout",
     "output_type": "stream",
     "text": [
      "Epoch 9/10:\n",
      "Train Loss: 0.0233, Train Acc: 0.9926\n",
      "Test Loss: 0.0746, Test Acc: 0.9820\n",
      "--------------------------------------------------\n"
     ]
    },
    {
     "name": "stderr",
     "output_type": "stream",
     "text": [
      "100%|████████████████████████████████████████████████████████████████████████████████| 938/938 [00:33<00:00, 28.17it/s]\n",
      "100%|████████████████████████████████████████████████████████████████████████████████| 157/157 [00:04<00:00, 39.04it/s]\n"
     ]
    },
    {
     "name": "stdout",
     "output_type": "stream",
     "text": [
      "Epoch 10/10:\n",
      "Train Loss: 0.0210, Train Acc: 0.9931\n",
      "Test Loss: 0.0892, Test Acc: 0.9797\n",
      "--------------------------------------------------\n",
      "\n",
      "=== Обучение: Dropout (0.3) ===\n"
     ]
    },
    {
     "name": "stderr",
     "output_type": "stream",
     "text": [
      "100%|████████████████████████████████████████████████████████████████████████████████| 938/938 [00:33<00:00, 28.17it/s]\n",
      "100%|████████████████████████████████████████████████████████████████████████████████| 157/157 [00:04<00:00, 35.93it/s]\n"
     ]
    },
    {
     "name": "stdout",
     "output_type": "stream",
     "text": [
      "Epoch 1/10:\n",
      "Train Loss: 0.2253, Train Acc: 0.9305\n",
      "Test Loss: 0.1163, Test Acc: 0.9608\n",
      "--------------------------------------------------\n"
     ]
    },
    {
     "name": "stderr",
     "output_type": "stream",
     "text": [
      "100%|████████████████████████████████████████████████████████████████████████████████| 938/938 [00:32<00:00, 28.76it/s]\n",
      "100%|████████████████████████████████████████████████████████████████████████████████| 157/157 [00:05<00:00, 27.94it/s]\n"
     ]
    },
    {
     "name": "stdout",
     "output_type": "stream",
     "text": [
      "Epoch 2/10:\n",
      "Train Loss: 0.0979, Train Acc: 0.9701\n",
      "Test Loss: 0.1088, Test Acc: 0.9656\n",
      "--------------------------------------------------\n"
     ]
    },
    {
     "name": "stderr",
     "output_type": "stream",
     "text": [
      "100%|████████████████████████████████████████████████████████████████████████████████| 938/938 [00:32<00:00, 28.73it/s]\n",
      "100%|████████████████████████████████████████████████████████████████████████████████| 157/157 [00:03<00:00, 40.36it/s]\n"
     ]
    },
    {
     "name": "stdout",
     "output_type": "stream",
     "text": [
      "Epoch 3/10:\n",
      "Train Loss: 0.0700, Train Acc: 0.9782\n",
      "Test Loss: 0.0785, Test Acc: 0.9758\n",
      "--------------------------------------------------\n"
     ]
    },
    {
     "name": "stderr",
     "output_type": "stream",
     "text": [
      "100%|████████████████████████████████████████████████████████████████████████████████| 938/938 [00:35<00:00, 26.62it/s]\n",
      "100%|████████████████████████████████████████████████████████████████████████████████| 157/157 [00:05<00:00, 29.87it/s]\n"
     ]
    },
    {
     "name": "stdout",
     "output_type": "stream",
     "text": [
      "Epoch 4/10:\n",
      "Train Loss: 0.0558, Train Acc: 0.9818\n",
      "Test Loss: 0.0768, Test Acc: 0.9780\n",
      "--------------------------------------------------\n"
     ]
    },
    {
     "name": "stderr",
     "output_type": "stream",
     "text": [
      "100%|████████████████████████████████████████████████████████████████████████████████| 938/938 [00:32<00:00, 28.48it/s]\n",
      "100%|████████████████████████████████████████████████████████████████████████████████| 157/157 [00:03<00:00, 40.25it/s]\n"
     ]
    },
    {
     "name": "stdout",
     "output_type": "stream",
     "text": [
      "Epoch 5/10:\n",
      "Train Loss: 0.0438, Train Acc: 0.9860\n",
      "Test Loss: 0.0823, Test Acc: 0.9779\n",
      "--------------------------------------------------\n"
     ]
    },
    {
     "name": "stderr",
     "output_type": "stream",
     "text": [
      "100%|████████████████████████████████████████████████████████████████████████████████| 938/938 [00:33<00:00, 27.97it/s]\n",
      "100%|████████████████████████████████████████████████████████████████████████████████| 157/157 [00:04<00:00, 38.91it/s]\n"
     ]
    },
    {
     "name": "stdout",
     "output_type": "stream",
     "text": [
      "Epoch 6/10:\n",
      "Train Loss: 0.0384, Train Acc: 0.9878\n",
      "Test Loss: 0.0757, Test Acc: 0.9786\n",
      "--------------------------------------------------\n"
     ]
    },
    {
     "name": "stderr",
     "output_type": "stream",
     "text": [
      "100%|████████████████████████████████████████████████████████████████████████████████| 938/938 [00:33<00:00, 28.40it/s]\n",
      "100%|████████████████████████████████████████████████████████████████████████████████| 157/157 [00:05<00:00, 31.03it/s]\n"
     ]
    },
    {
     "name": "stdout",
     "output_type": "stream",
     "text": [
      "Epoch 7/10:\n",
      "Train Loss: 0.0337, Train Acc: 0.9898\n",
      "Test Loss: 0.0744, Test Acc: 0.9786\n",
      "--------------------------------------------------\n"
     ]
    },
    {
     "name": "stderr",
     "output_type": "stream",
     "text": [
      "100%|████████████████████████████████████████████████████████████████████████████████| 938/938 [00:34<00:00, 27.23it/s]\n",
      "100%|████████████████████████████████████████████████████████████████████████████████| 157/157 [00:03<00:00, 39.87it/s]\n"
     ]
    },
    {
     "name": "stdout",
     "output_type": "stream",
     "text": [
      "Epoch 8/10:\n",
      "Train Loss: 0.0339, Train Acc: 0.9893\n",
      "Test Loss: 0.0781, Test Acc: 0.9807\n",
      "--------------------------------------------------\n"
     ]
    },
    {
     "name": "stderr",
     "output_type": "stream",
     "text": [
      "100%|████████████████████████████████████████████████████████████████████████████████| 938/938 [00:33<00:00, 27.92it/s]\n",
      "100%|████████████████████████████████████████████████████████████████████████████████| 157/157 [00:04<00:00, 32.83it/s]\n"
     ]
    },
    {
     "name": "stdout",
     "output_type": "stream",
     "text": [
      "Epoch 9/10:\n",
      "Train Loss: 0.0256, Train Acc: 0.9916\n",
      "Test Loss: 0.0921, Test Acc: 0.9772\n",
      "--------------------------------------------------\n"
     ]
    },
    {
     "name": "stderr",
     "output_type": "stream",
     "text": [
      "100%|████████████████████████████████████████████████████████████████████████████████| 938/938 [00:34<00:00, 27.48it/s]\n",
      "100%|████████████████████████████████████████████████████████████████████████████████| 157/157 [00:04<00:00, 35.80it/s]\n"
     ]
    },
    {
     "name": "stdout",
     "output_type": "stream",
     "text": [
      "Epoch 10/10:\n",
      "Train Loss: 0.0275, Train Acc: 0.9912\n",
      "Test Loss: 0.0896, Test Acc: 0.9793\n",
      "--------------------------------------------------\n",
      "\n",
      "=== Обучение: Dropout (0.5) ===\n"
     ]
    },
    {
     "name": "stderr",
     "output_type": "stream",
     "text": [
      "100%|████████████████████████████████████████████████████████████████████████████████| 938/938 [00:33<00:00, 28.18it/s]\n",
      "100%|████████████████████████████████████████████████████████████████████████████████| 157/157 [00:03<00:00, 39.59it/s]\n"
     ]
    },
    {
     "name": "stdout",
     "output_type": "stream",
     "text": [
      "Epoch 1/10:\n",
      "Train Loss: 0.2433, Train Acc: 0.9264\n",
      "Test Loss: 0.1176, Test Acc: 0.9632\n",
      "--------------------------------------------------\n"
     ]
    },
    {
     "name": "stderr",
     "output_type": "stream",
     "text": [
      "100%|████████████████████████████████████████████████████████████████████████████████| 938/938 [00:32<00:00, 28.43it/s]\n",
      "100%|████████████████████████████████████████████████████████████████████████████████| 157/157 [00:04<00:00, 31.88it/s]\n"
     ]
    },
    {
     "name": "stdout",
     "output_type": "stream",
     "text": [
      "Epoch 2/10:\n",
      "Train Loss: 0.1085, Train Acc: 0.9680\n",
      "Test Loss: 0.0817, Test Acc: 0.9733\n",
      "--------------------------------------------------\n"
     ]
    },
    {
     "name": "stderr",
     "output_type": "stream",
     "text": [
      "100%|████████████████████████████████████████████████████████████████████████████████| 938/938 [00:33<00:00, 27.79it/s]\n",
      "100%|████████████████████████████████████████████████████████████████████████████████| 157/157 [00:04<00:00, 38.60it/s]\n"
     ]
    },
    {
     "name": "stdout",
     "output_type": "stream",
     "text": [
      "Epoch 3/10:\n",
      "Train Loss: 0.0785, Train Acc: 0.9764\n",
      "Test Loss: 0.0761, Test Acc: 0.9749\n",
      "--------------------------------------------------\n"
     ]
    },
    {
     "name": "stderr",
     "output_type": "stream",
     "text": [
      "100%|████████████████████████████████████████████████████████████████████████████████| 938/938 [00:32<00:00, 28.47it/s]\n",
      "100%|████████████████████████████████████████████████████████████████████████████████| 157/157 [00:03<00:00, 39.99it/s]\n"
     ]
    },
    {
     "name": "stdout",
     "output_type": "stream",
     "text": [
      "Epoch 4/10:\n",
      "Train Loss: 0.0637, Train Acc: 0.9808\n",
      "Test Loss: 0.1020, Test Acc: 0.9700\n",
      "--------------------------------------------------\n"
     ]
    },
    {
     "name": "stderr",
     "output_type": "stream",
     "text": [
      "100%|████████████████████████████████████████████████████████████████████████████████| 938/938 [00:33<00:00, 27.84it/s]\n",
      "100%|████████████████████████████████████████████████████████████████████████████████| 157/157 [00:05<00:00, 30.58it/s]\n"
     ]
    },
    {
     "name": "stdout",
     "output_type": "stream",
     "text": [
      "Epoch 5/10:\n",
      "Train Loss: 0.0560, Train Acc: 0.9820\n",
      "Test Loss: 0.0967, Test Acc: 0.9745\n",
      "--------------------------------------------------\n"
     ]
    },
    {
     "name": "stderr",
     "output_type": "stream",
     "text": [
      "100%|████████████████████████████████████████████████████████████████████████████████| 938/938 [00:34<00:00, 27.24it/s]\n",
      "100%|████████████████████████████████████████████████████████████████████████████████| 157/157 [00:04<00:00, 37.31it/s]\n"
     ]
    },
    {
     "name": "stdout",
     "output_type": "stream",
     "text": [
      "Epoch 6/10:\n",
      "Train Loss: 0.0421, Train Acc: 0.9870\n",
      "Test Loss: 0.0866, Test Acc: 0.9778\n",
      "--------------------------------------------------\n"
     ]
    },
    {
     "name": "stderr",
     "output_type": "stream",
     "text": [
      "100%|████████████████████████████████████████████████████████████████████████████████| 938/938 [00:33<00:00, 28.21it/s]\n",
      "100%|████████████████████████████████████████████████████████████████████████████████| 157/157 [00:04<00:00, 37.03it/s]\n"
     ]
    },
    {
     "name": "stdout",
     "output_type": "stream",
     "text": [
      "Epoch 7/10:\n",
      "Train Loss: 0.0439, Train Acc: 0.9861\n",
      "Test Loss: 0.0805, Test Acc: 0.9792\n",
      "--------------------------------------------------\n"
     ]
    },
    {
     "name": "stderr",
     "output_type": "stream",
     "text": [
      "100%|████████████████████████████████████████████████████████████████████████████████| 938/938 [00:34<00:00, 26.98it/s]\n",
      "100%|████████████████████████████████████████████████████████████████████████████████| 157/157 [00:04<00:00, 36.46it/s]\n"
     ]
    },
    {
     "name": "stdout",
     "output_type": "stream",
     "text": [
      "Epoch 8/10:\n",
      "Train Loss: 0.0348, Train Acc: 0.9891\n",
      "Test Loss: 0.0872, Test Acc: 0.9796\n",
      "--------------------------------------------------\n"
     ]
    },
    {
     "name": "stderr",
     "output_type": "stream",
     "text": [
      "100%|████████████████████████████████████████████████████████████████████████████████| 938/938 [00:33<00:00, 28.23it/s]\n",
      "100%|████████████████████████████████████████████████████████████████████████████████| 157/157 [00:03<00:00, 39.76it/s]\n"
     ]
    },
    {
     "name": "stdout",
     "output_type": "stream",
     "text": [
      "Epoch 9/10:\n",
      "Train Loss: 0.0350, Train Acc: 0.9891\n",
      "Test Loss: 0.0834, Test Acc: 0.9813\n",
      "--------------------------------------------------\n"
     ]
    },
    {
     "name": "stderr",
     "output_type": "stream",
     "text": [
      "100%|████████████████████████████████████████████████████████████████████████████████| 938/938 [00:34<00:00, 27.34it/s]\n",
      "100%|████████████████████████████████████████████████████████████████████████████████| 157/157 [00:05<00:00, 30.56it/s]\n"
     ]
    },
    {
     "name": "stdout",
     "output_type": "stream",
     "text": [
      "Epoch 10/10:\n",
      "Train Loss: 0.0279, Train Acc: 0.9914\n",
      "Test Loss: 0.1229, Test Acc: 0.9766\n",
      "--------------------------------------------------\n",
      "\n",
      "=== Обучение: BatchNorm ===\n"
     ]
    },
    {
     "name": "stderr",
     "output_type": "stream",
     "text": [
      "100%|████████████████████████████████████████████████████████████████████████████████| 938/938 [00:32<00:00, 28.85it/s]\n",
      "100%|████████████████████████████████████████████████████████████████████████████████| 157/157 [00:04<00:00, 32.55it/s]\n"
     ]
    },
    {
     "name": "stdout",
     "output_type": "stream",
     "text": [
      "Epoch 1/10:\n",
      "Train Loss: 0.1887, Train Acc: 0.9434\n",
      "Test Loss: 0.1083, Test Acc: 0.9647\n",
      "--------------------------------------------------\n"
     ]
    },
    {
     "name": "stderr",
     "output_type": "stream",
     "text": [
      "100%|████████████████████████████████████████████████████████████████████████████████| 938/938 [00:32<00:00, 28.51it/s]\n",
      "100%|████████████████████████████████████████████████████████████████████████████████| 157/157 [00:03<00:00, 39.55it/s]\n"
     ]
    },
    {
     "name": "stdout",
     "output_type": "stream",
     "text": [
      "Epoch 2/10:\n",
      "Train Loss: 0.0856, Train Acc: 0.9740\n",
      "Test Loss: 0.0903, Test Acc: 0.9726\n",
      "--------------------------------------------------\n"
     ]
    },
    {
     "name": "stderr",
     "output_type": "stream",
     "text": [
      "100%|████████████████████████████████████████████████████████████████████████████████| 938/938 [00:34<00:00, 27.29it/s]\n",
      "100%|████████████████████████████████████████████████████████████████████████████████| 157/157 [00:04<00:00, 31.48it/s]\n"
     ]
    },
    {
     "name": "stdout",
     "output_type": "stream",
     "text": [
      "Epoch 3/10:\n",
      "Train Loss: 0.0626, Train Acc: 0.9804\n",
      "Test Loss: 0.0688, Test Acc: 0.9792\n",
      "--------------------------------------------------\n"
     ]
    },
    {
     "name": "stderr",
     "output_type": "stream",
     "text": [
      "100%|████████████████████████████████████████████████████████████████████████████████| 938/938 [00:33<00:00, 28.22it/s]\n",
      "100%|████████████████████████████████████████████████████████████████████████████████| 157/157 [00:03<00:00, 40.40it/s]\n"
     ]
    },
    {
     "name": "stdout",
     "output_type": "stream",
     "text": [
      "Epoch 4/10:\n",
      "Train Loss: 0.0478, Train Acc: 0.9851\n",
      "Test Loss: 0.0617, Test Acc: 0.9807\n",
      "--------------------------------------------------\n"
     ]
    },
    {
     "name": "stderr",
     "output_type": "stream",
     "text": [
      "100%|████████████████████████████████████████████████████████████████████████████████| 938/938 [00:33<00:00, 27.72it/s]\n",
      "100%|████████████████████████████████████████████████████████████████████████████████| 157/157 [00:04<00:00, 35.73it/s]\n"
     ]
    },
    {
     "name": "stdout",
     "output_type": "stream",
     "text": [
      "Epoch 5/10:\n",
      "Train Loss: 0.0393, Train Acc: 0.9874\n",
      "Test Loss: 0.0636, Test Acc: 0.9797\n",
      "--------------------------------------------------\n"
     ]
    },
    {
     "name": "stderr",
     "output_type": "stream",
     "text": [
      "100%|████████████████████████████████████████████████████████████████████████████████| 938/938 [00:33<00:00, 27.81it/s]\n",
      "100%|████████████████████████████████████████████████████████████████████████████████| 157/157 [00:04<00:00, 34.71it/s]\n"
     ]
    },
    {
     "name": "stdout",
     "output_type": "stream",
     "text": [
      "Epoch 6/10:\n",
      "Train Loss: 0.0318, Train Acc: 0.9891\n",
      "Test Loss: 0.0674, Test Acc: 0.9812\n",
      "--------------------------------------------------\n"
     ]
    },
    {
     "name": "stderr",
     "output_type": "stream",
     "text": [
      "100%|████████████████████████████████████████████████████████████████████████████████| 938/938 [00:35<00:00, 26.71it/s]\n",
      "100%|████████████████████████████████████████████████████████████████████████████████| 157/157 [00:04<00:00, 39.02it/s]\n"
     ]
    },
    {
     "name": "stdout",
     "output_type": "stream",
     "text": [
      "Epoch 7/10:\n",
      "Train Loss: 0.0284, Train Acc: 0.9911\n",
      "Test Loss: 0.0652, Test Acc: 0.9822\n",
      "--------------------------------------------------\n"
     ]
    },
    {
     "name": "stderr",
     "output_type": "stream",
     "text": [
      "100%|████████████████████████████████████████████████████████████████████████████████| 938/938 [00:34<00:00, 27.11it/s]\n",
      "100%|████████████████████████████████████████████████████████████████████████████████| 157/157 [00:04<00:00, 31.87it/s]\n"
     ]
    },
    {
     "name": "stdout",
     "output_type": "stream",
     "text": [
      "Epoch 8/10:\n",
      "Train Loss: 0.0251, Train Acc: 0.9917\n",
      "Test Loss: 0.0689, Test Acc: 0.9801\n",
      "--------------------------------------------------\n"
     ]
    },
    {
     "name": "stderr",
     "output_type": "stream",
     "text": [
      "100%|████████████████████████████████████████████████████████████████████████████████| 938/938 [00:33<00:00, 28.15it/s]\n",
      "100%|████████████████████████████████████████████████████████████████████████████████| 157/157 [00:03<00:00, 39.69it/s]\n"
     ]
    },
    {
     "name": "stdout",
     "output_type": "stream",
     "text": [
      "Epoch 9/10:\n",
      "Train Loss: 0.0218, Train Acc: 0.9925\n",
      "Test Loss: 0.0655, Test Acc: 0.9814\n",
      "--------------------------------------------------\n"
     ]
    },
    {
     "name": "stderr",
     "output_type": "stream",
     "text": [
      "100%|████████████████████████████████████████████████████████████████████████████████| 938/938 [00:34<00:00, 27.32it/s]\n",
      "100%|████████████████████████████████████████████████████████████████████████████████| 157/157 [00:04<00:00, 33.69it/s]\n"
     ]
    },
    {
     "name": "stdout",
     "output_type": "stream",
     "text": [
      "Epoch 10/10:\n",
      "Train Loss: 0.0186, Train Acc: 0.9935\n",
      "Test Loss: 0.0710, Test Acc: 0.9809\n",
      "--------------------------------------------------\n",
      "\n",
      "=== Обучение: Dropout + BatchNorm ===\n"
     ]
    },
    {
     "name": "stderr",
     "output_type": "stream",
     "text": [
      "100%|████████████████████████████████████████████████████████████████████████████████| 938/938 [00:32<00:00, 28.45it/s]\n",
      "100%|████████████████████████████████████████████████████████████████████████████████| 157/157 [00:04<00:00, 35.64it/s]\n"
     ]
    },
    {
     "name": "stdout",
     "output_type": "stream",
     "text": [
      "Epoch 1/10:\n",
      "Train Loss: 0.2175, Train Acc: 0.9355\n",
      "Test Loss: 0.1156, Test Acc: 0.9608\n",
      "--------------------------------------------------\n"
     ]
    },
    {
     "name": "stderr",
     "output_type": "stream",
     "text": [
      "100%|████████████████████████████████████████████████████████████████████████████████| 938/938 [00:34<00:00, 27.36it/s]\n",
      "100%|████████████████████████████████████████████████████████████████████████████████| 157/157 [00:04<00:00, 38.68it/s]\n"
     ]
    },
    {
     "name": "stdout",
     "output_type": "stream",
     "text": [
      "Epoch 2/10:\n",
      "Train Loss: 0.0990, Train Acc: 0.9704\n",
      "Test Loss: 0.0787, Test Acc: 0.9745\n",
      "--------------------------------------------------\n"
     ]
    },
    {
     "name": "stderr",
     "output_type": "stream",
     "text": [
      "100%|████████████████████████████████████████████████████████████████████████████████| 938/938 [00:33<00:00, 28.08it/s]\n",
      "100%|████████████████████████████████████████████████████████████████████████████████| 157/157 [00:06<00:00, 26.16it/s]\n"
     ]
    },
    {
     "name": "stdout",
     "output_type": "stream",
     "text": [
      "Epoch 3/10:\n",
      "Train Loss: 0.0747, Train Acc: 0.9772\n",
      "Test Loss: 0.0732, Test Acc: 0.9770\n",
      "--------------------------------------------------\n"
     ]
    },
    {
     "name": "stderr",
     "output_type": "stream",
     "text": [
      "100%|████████████████████████████████████████████████████████████████████████████████| 938/938 [00:36<00:00, 25.71it/s]\n",
      "100%|████████████████████████████████████████████████████████████████████████████████| 157/157 [00:04<00:00, 31.98it/s]\n"
     ]
    },
    {
     "name": "stdout",
     "output_type": "stream",
     "text": [
      "Epoch 4/10:\n",
      "Train Loss: 0.0593, Train Acc: 0.9809\n",
      "Test Loss: 0.0901, Test Acc: 0.9725\n",
      "--------------------------------------------------\n"
     ]
    },
    {
     "name": "stderr",
     "output_type": "stream",
     "text": [
      "100%|████████████████████████████████████████████████████████████████████████████████| 938/938 [00:38<00:00, 24.39it/s]\n",
      "100%|████████████████████████████████████████████████████████████████████████████████| 157/157 [00:04<00:00, 38.90it/s]\n"
     ]
    },
    {
     "name": "stdout",
     "output_type": "stream",
     "text": [
      "Epoch 5/10:\n",
      "Train Loss: 0.0506, Train Acc: 0.9839\n",
      "Test Loss: 0.0766, Test Acc: 0.9770\n",
      "--------------------------------------------------\n"
     ]
    },
    {
     "name": "stderr",
     "output_type": "stream",
     "text": [
      "100%|████████████████████████████████████████████████████████████████████████████████| 938/938 [00:33<00:00, 27.68it/s]\n",
      "100%|████████████████████████████████████████████████████████████████████████████████| 157/157 [00:03<00:00, 39.69it/s]\n"
     ]
    },
    {
     "name": "stdout",
     "output_type": "stream",
     "text": [
      "Epoch 6/10:\n",
      "Train Loss: 0.0423, Train Acc: 0.9859\n",
      "Test Loss: 0.0886, Test Acc: 0.9740\n",
      "--------------------------------------------------\n"
     ]
    },
    {
     "name": "stderr",
     "output_type": "stream",
     "text": [
      "100%|████████████████████████████████████████████████████████████████████████████████| 938/938 [00:37<00:00, 25.10it/s]\n",
      "100%|████████████████████████████████████████████████████████████████████████████████| 157/157 [00:04<00:00, 38.72it/s]\n"
     ]
    },
    {
     "name": "stdout",
     "output_type": "stream",
     "text": [
      "Epoch 7/10:\n",
      "Train Loss: 0.0348, Train Acc: 0.9883\n",
      "Test Loss: 0.0700, Test Acc: 0.9800\n",
      "--------------------------------------------------\n"
     ]
    },
    {
     "name": "stderr",
     "output_type": "stream",
     "text": [
      "100%|████████████████████████████████████████████████████████████████████████████████| 938/938 [00:35<00:00, 26.75it/s]\n",
      "100%|████████████████████████████████████████████████████████████████████████████████| 157/157 [00:04<00:00, 38.64it/s]\n"
     ]
    },
    {
     "name": "stdout",
     "output_type": "stream",
     "text": [
      "Epoch 8/10:\n",
      "Train Loss: 0.0313, Train Acc: 0.9900\n",
      "Test Loss: 0.0788, Test Acc: 0.9788\n",
      "--------------------------------------------------\n"
     ]
    },
    {
     "name": "stderr",
     "output_type": "stream",
     "text": [
      "100%|████████████████████████████████████████████████████████████████████████████████| 938/938 [00:36<00:00, 25.72it/s]\n",
      "100%|████████████████████████████████████████████████████████████████████████████████| 157/157 [00:05<00:00, 30.69it/s]\n"
     ]
    },
    {
     "name": "stdout",
     "output_type": "stream",
     "text": [
      "Epoch 9/10:\n",
      "Train Loss: 0.0294, Train Acc: 0.9904\n",
      "Test Loss: 0.0835, Test Acc: 0.9779\n",
      "--------------------------------------------------\n"
     ]
    },
    {
     "name": "stderr",
     "output_type": "stream",
     "text": [
      "100%|████████████████████████████████████████████████████████████████████████████████| 938/938 [00:35<00:00, 26.39it/s]\n",
      "100%|████████████████████████████████████████████████████████████████████████████████| 157/157 [00:04<00:00, 34.50it/s]\n"
     ]
    },
    {
     "name": "stdout",
     "output_type": "stream",
     "text": [
      "Epoch 10/10:\n",
      "Train Loss: 0.0242, Train Acc: 0.9923\n",
      "Test Loss: 0.0792, Test Acc: 0.9797\n",
      "--------------------------------------------------\n",
      "\n",
      "=== Обучение: L2 (weight decay) ===\n"
     ]
    },
    {
     "name": "stderr",
     "output_type": "stream",
     "text": [
      "100%|████████████████████████████████████████████████████████████████████████████████| 938/938 [00:31<00:00, 29.67it/s]\n",
      "100%|████████████████████████████████████████████████████████████████████████████████| 157/157 [00:05<00:00, 31.03it/s]\n"
     ]
    },
    {
     "name": "stdout",
     "output_type": "stream",
     "text": [
      "Epoch 1/10:\n",
      "Train Loss: 0.2047, Train Acc: 0.9381\n",
      "Test Loss: 0.1100, Test Acc: 0.9643\n",
      "--------------------------------------------------\n"
     ]
    },
    {
     "name": "stderr",
     "output_type": "stream",
     "text": [
      "100%|████████████████████████████████████████████████████████████████████████████████| 938/938 [00:33<00:00, 28.39it/s]\n",
      "100%|████████████████████████████████████████████████████████████████████████████████| 157/157 [00:03<00:00, 40.42it/s]\n"
     ]
    },
    {
     "name": "stdout",
     "output_type": "stream",
     "text": [
      "Epoch 2/10:\n",
      "Train Loss: 0.0839, Train Acc: 0.9741\n",
      "Test Loss: 0.0690, Test Acc: 0.9787\n",
      "--------------------------------------------------\n"
     ]
    },
    {
     "name": "stderr",
     "output_type": "stream",
     "text": [
      "100%|████████████████████████████████████████████████████████████████████████████████| 938/938 [00:31<00:00, 29.35it/s]\n",
      "100%|████████████████████████████████████████████████████████████████████████████████| 157/157 [00:04<00:00, 33.13it/s]\n"
     ]
    },
    {
     "name": "stdout",
     "output_type": "stream",
     "text": [
      "Epoch 3/10:\n",
      "Train Loss: 0.0608, Train Acc: 0.9805\n",
      "Test Loss: 0.0822, Test Acc: 0.9749\n",
      "--------------------------------------------------\n"
     ]
    },
    {
     "name": "stderr",
     "output_type": "stream",
     "text": [
      "100%|████████████████████████████████████████████████████████████████████████████████| 938/938 [00:31<00:00, 29.44it/s]\n",
      "100%|████████████████████████████████████████████████████████████████████████████████| 157/157 [00:05<00:00, 30.82it/s]\n"
     ]
    },
    {
     "name": "stdout",
     "output_type": "stream",
     "text": [
      "Epoch 4/10:\n",
      "Train Loss: 0.0466, Train Acc: 0.9849\n",
      "Test Loss: 0.0803, Test Acc: 0.9776\n",
      "--------------------------------------------------\n"
     ]
    },
    {
     "name": "stderr",
     "output_type": "stream",
     "text": [
      "100%|████████████████████████████████████████████████████████████████████████████████| 938/938 [00:33<00:00, 28.39it/s]\n",
      "100%|████████████████████████████████████████████████████████████████████████████████| 157/157 [00:04<00:00, 39.19it/s]\n"
     ]
    },
    {
     "name": "stdout",
     "output_type": "stream",
     "text": [
      "Epoch 5/10:\n",
      "Train Loss: 0.0375, Train Acc: 0.9879\n",
      "Test Loss: 0.0819, Test Acc: 0.9775\n",
      "--------------------------------------------------\n"
     ]
    },
    {
     "name": "stderr",
     "output_type": "stream",
     "text": [
      "100%|████████████████████████████████████████████████████████████████████████████████| 938/938 [00:36<00:00, 25.40it/s]\n",
      "100%|████████████████████████████████████████████████████████████████████████████████| 157/157 [00:05<00:00, 30.37it/s]\n"
     ]
    },
    {
     "name": "stdout",
     "output_type": "stream",
     "text": [
      "Epoch 6/10:\n",
      "Train Loss: 0.0316, Train Acc: 0.9898\n",
      "Test Loss: 0.0947, Test Acc: 0.9753\n",
      "--------------------------------------------------\n"
     ]
    },
    {
     "name": "stderr",
     "output_type": "stream",
     "text": [
      "100%|████████████████████████████████████████████████████████████████████████████████| 938/938 [00:39<00:00, 23.66it/s]\n",
      "100%|████████████████████████████████████████████████████████████████████████████████| 157/157 [00:03<00:00, 40.36it/s]\n"
     ]
    },
    {
     "name": "stdout",
     "output_type": "stream",
     "text": [
      "Epoch 7/10:\n",
      "Train Loss: 0.0292, Train Acc: 0.9903\n",
      "Test Loss: 0.0749, Test Acc: 0.9805\n",
      "--------------------------------------------------\n"
     ]
    },
    {
     "name": "stderr",
     "output_type": "stream",
     "text": [
      "100%|████████████████████████████████████████████████████████████████████████████████| 938/938 [00:32<00:00, 28.81it/s]\n",
      "100%|████████████████████████████████████████████████████████████████████████████████| 157/157 [00:05<00:00, 27.24it/s]\n"
     ]
    },
    {
     "name": "stdout",
     "output_type": "stream",
     "text": [
      "Epoch 8/10:\n",
      "Train Loss: 0.0249, Train Acc: 0.9921\n",
      "Test Loss: 0.0859, Test Acc: 0.9792\n",
      "--------------------------------------------------\n"
     ]
    },
    {
     "name": "stderr",
     "output_type": "stream",
     "text": [
      "100%|████████████████████████████████████████████████████████████████████████████████| 938/938 [00:33<00:00, 28.09it/s]\n",
      "100%|████████████████████████████████████████████████████████████████████████████████| 157/157 [00:04<00:00, 36.87it/s]\n"
     ]
    },
    {
     "name": "stdout",
     "output_type": "stream",
     "text": [
      "Epoch 9/10:\n",
      "Train Loss: 0.0215, Train Acc: 0.9937\n",
      "Test Loss: 0.0862, Test Acc: 0.9797\n",
      "--------------------------------------------------\n"
     ]
    },
    {
     "name": "stderr",
     "output_type": "stream",
     "text": [
      "100%|████████████████████████████████████████████████████████████████████████████████| 938/938 [00:34<00:00, 27.38it/s]\n",
      "100%|████████████████████████████████████████████████████████████████████████████████| 157/157 [00:04<00:00, 32.77it/s]"
     ]
    },
    {
     "name": "stdout",
     "output_type": "stream",
     "text": [
      "Epoch 10/10:\n",
      "Train Loss: 0.0205, Train Acc: 0.9933\n",
      "Test Loss: 0.1035, Test Acc: 0.9761\n",
      "--------------------------------------------------\n",
      "[{'name': 'no_regularization', 'regularization': 'No Regularization', 'test_acc': 0.9786}, {'name': 'dropout_0_1', 'regularization': 'Dropout (0.1)', 'test_acc': 0.9797}, {'name': 'dropout_0_3', 'regularization': 'Dropout (0.3)', 'test_acc': 0.9793}, {'name': 'dropout_0_5', 'regularization': 'Dropout (0.5)', 'test_acc': 0.9766}, {'name': 'batch_norm', 'regularization': 'BatchNorm', 'test_acc': 0.9809}, {'name': 'dropout_batch_norm', 'regularization': 'Dropout + BatchNorm', 'test_acc': 0.9797}, {'name': 'l2_regularization', 'regularization': 'L2 (weight decay)', 'test_acc': 0.9761}]\n"
     ]
    },
    {
     "name": "stderr",
     "output_type": "stream",
     "text": [
      "\n"
     ]
    }
   ],
   "source": [
    "results = []\n",
    "device = torch.device('cuda' if torch.cuda.is_available() else 'cpu')\n",
    "\n",
    "train_loader, test_loader = get_mnist_loaders(batch_size=64)\n",
    "\n",
    "for name, cfg in configs.items():\n",
    "    print(f\"\\n=== Обучение: {cfg['regularization']} ===\")\n",
    "    \n",
    "    model = FullyConnectedModel(config_path=None, **cfg[\"config\"])\n",
    "    model.to(device)\n",
    "    \n",
    "    # L2 regularization через weight decay\n",
    "    if cfg.get(\"use_l2\", False):\n",
    "        optimizer = optim.Adam(model.parameters(), lr=0.001, weight_decay=1e-4)\n",
    "    else:\n",
    "        optimizer = optim.Adam(model.parameters(), lr=0.001)\n",
    "\n",
    "    history = train_model(model, train_loader, test_loader, epochs=10, device=device)\n",
    "    \n",
    "    results.append({\n",
    "        \"name\": name,\n",
    "        \"regularization\": cfg[\"regularization\"],\n",
    "        \"test_acc\": history[\"test_accs\"][-1],\n",
    "    })\n",
    "print(results)"
   ]
  },
  {
   "cell_type": "markdown",
   "id": "47e34ec7",
   "metadata": {},
   "source": [
    "Визуализируем результаты"
   ]
  },
  {
   "cell_type": "code",
   "execution_count": 9,
   "id": "70b3d9eb",
   "metadata": {},
   "outputs": [
    {
     "data": {
      "image/png": "[encoded data removed]",
      "text/plain": [
       "<Figure size 1000x600 with 1 Axes>"
      ]
     },
     "metadata": {},
     "output_type": "display_data"
    }
   ],
   "source": [
    "import pandas as pd\n",
    "import seaborn as sns\n",
    "import matplotlib.pyplot as plt\n",
    "\n",
    "df_results = pd.DataFrame(results)\n",
    "df_results.sort_values(by=\"test_acc\", ascending=False, inplace=True)\n",
    "\n",
    "plt.figure(figsize=(10, 6))\n",
    "sns.barplot(data=df_results, x=\"test_acc\", y=\"regularization\", palette=\"viridis\")\n",
    "plt.title(\"Сравнение техник регуляризации на MNIST\")\n",
    "plt.xlabel(\"Test Accuracy\")\n",
    "plt.ylabel(\"Техника регуляризации\")\n",
    "plt.xlim(0.9, 0.97)\n",
    "plt.grid(True, linestyle='--', alpha=0.6)\n",
    "plt.show()"
   ]
  },
  {
   "cell_type": "markdown",
   "id": "17f45d5d",
   "metadata": {},
   "source": [
    "Распределение весов"
   ]
  },
  {
   "cell_type": "code",
   "execution_count": 12,
   "id": "eaa1820d",
   "metadata": {},
   "outputs": [
    {
     "name": "stderr",
     "output_type": "stream",
     "text": [
      "C:\\Users\\user\\anaconda3\\Lib\\site-packages\\seaborn\\_oldcore.py:1119: FutureWarning: use_inf_as_na option is deprecated and will be removed in a future version. Convert inf values to NaN before operating instead.\n",
      "  with pd.option_context('mode.use_inf_as_na', True):\n"
     ]
    },
    {
     "data": {
      "image/png": "[encoded data removed]",
      "text/plain": [
       "<Figure size 1000x400 with 1 Axes>"
      ]
     },
     "metadata": {},
     "output_type": "display_data"
    },
    {
     "name": "stderr",
     "output_type": "stream",
     "text": [
      "C:\\Users\\user\\anaconda3\\Lib\\site-packages\\seaborn\\_oldcore.py:1119: FutureWarning: use_inf_as_na option is deprecated and will be removed in a future version. Convert inf values to NaN before operating instead.\n",
      "  with pd.option_context('mode.use_inf_as_na', True):\n"
     ]
    },
    {
     "data": {
      "image/png": "[encoded data removed]",
      "text/plain": [
       "<Figure size 1000x400 with 1 Axes>"
      ]
     },
     "metadata": {},
     "output_type": "display_data"
    },
    {
     "name": "stderr",
     "output_type": "stream",
     "text": [
      "C:\\Users\\user\\anaconda3\\Lib\\site-packages\\seaborn\\_oldcore.py:1119: FutureWarning: use_inf_as_na option is deprecated and will be removed in a future version. Convert inf values to NaN before operating instead.\n",
      "  with pd.option_context('mode.use_inf_as_na', True):\n"
     ]
    },
    {
     "data": {
      "image/png": "[encoded data removed]",
      "text/plain": [
       "<Figure size 1000x400 with 1 Axes>"
      ]
     },
     "metadata": {},
     "output_type": "display_data"
    },
    {
     "name": "stderr",
     "output_type": "stream",
     "text": [
      "C:\\Users\\user\\anaconda3\\Lib\\site-packages\\seaborn\\_oldcore.py:1119: FutureWarning: use_inf_as_na option is deprecated and will be removed in a future version. Convert inf values to NaN before operating instead.\n",
      "  with pd.option_context('mode.use_inf_as_na', True):\n"
     ]
    },
    {
     "data": {
      "image/png": "[encoded data removed]",
      "text/plain": [
       "<Figure size 1000x400 with 1 Axes>"
      ]
     },
     "metadata": {},
     "output_type": "display_data"
    },
    {
     "name": "stderr",
     "output_type": "stream",
     "text": [
      "C:\\Users\\user\\anaconda3\\Lib\\site-packages\\seaborn\\_oldcore.py:1119: FutureWarning: use_inf_as_na option is deprecated and will be removed in a future version. Convert inf values to NaN before operating instead.\n",
      "  with pd.option_context('mode.use_inf_as_na', True):\n"
     ]
    },
    {
     "data": {
      "image/png": "[encoded data removed]",
      "text/plain": [
       "<Figure size 1000x400 with 1 Axes>"
      ]
     },
     "metadata": {},
     "output_type": "display_data"
    }
   ],
   "source": [
    "models = {}\n",
    "\n",
    "for key, cfg in configs.items():\n",
    "    model = FullyConnectedModel(config_path=None, **cfg[\"config\"])\n",
    "    models[key] = model\n",
    "    \n",
    "def plot_weight_distribution(model, title):\n",
    "    plt.figure(figsize=(10, 4))\n",
    "    weights = []\n",
    "    for layer in model.modules():\n",
    "        if isinstance(layer, nn.Linear):\n",
    "            weights.extend(layer.weight.data.cpu().numpy().flatten())\n",
    "    \n",
    "    sns.histplot(weights, bins=50, kde=True)\n",
    "    plt.title(title)\n",
    "    plt.xlabel(\"Веса\")\n",
    "    plt.ylabel(\"Частота\")\n",
    "    plt.show()\n",
    "    \n",
    "plot_weight_distribution(models[\"no_reg\"], \"Распределение весов - Без регуляризации\")\n",
    "plot_weight_distribution(models[\"dropout\"], \"Распределение весов - Dropout\")\n",
    "plot_weight_distribution(models[\"batch_norm\"], \"Распределение весов - BatchNorm\")\n",
    "plot_weight_distribution(models[\"both\"], \"Распределение весов - Dropout + BatchNorm\")\n",
    "plot_weight_distribution(models[\"l2\"], \"Распределение весов - L2 Regularization\")"
   ]
  },
  {
   "cell_type": "markdown",
   "id": "fb8fa288",
   "metadata": {},
   "source": [
    "# 3.2 Адаптивная регуляризация "
   ]
  },
  {
   "cell_type": "markdown",
   "id": "85fe9d4a",
   "metadata": {},
   "source": [
    "Добавляем адаптивный dropout"
   ]
  },
  {
   "cell_type": "code",
   "execution_count": 13,
   "id": "d1d7a083",
   "metadata": {},
   "outputs": [],
   "source": [
    "def adaptive_dropout_rate(epoch, max_epochs=10):\n",
    "    return min(0.5, 0.1 + 0.4 * (epoch / max_epochs))\n",
    "\n",
    "adaptive_dropout_config = {\n",
    "    \"input_size\": 784,\n",
    "    \"num_classes\": 10,\n",
    "    \"layers\": base_config[\"layers\"] + [\n",
    "        {\"type\": \"dropout\", \"rate\": 0.4}\n",
    "    ]\n",
    "}"
   ]
  },
  {
   "cell_type": "markdown",
   "id": "23cb09e1",
   "metadata": {},
   "source": [
    "Обучение с изменяющимся dropout"
   ]
  },
  {
   "cell_type": "code",
   "execution_count": 15,
   "id": "ac80ea89",
   "metadata": {},
   "outputs": [
    {
     "name": "stderr",
     "output_type": "stream",
     "text": [
      "100%|████████████████████████████████████████████████████████████████████████████████| 938/938 [00:37<00:00, 24.86it/s]\n",
      "100%|████████████████████████████████████████████████████████████████████████████████| 157/157 [00:05<00:00, 29.91it/s]\n",
      "100%|████████████████████████████████████████████████████████████████████████████████| 938/938 [00:37<00:00, 25.32it/s]\n",
      "100%|████████████████████████████████████████████████████████████████████████████████| 157/157 [00:05<00:00, 28.75it/s]\n",
      "100%|████████████████████████████████████████████████████████████████████████████████| 938/938 [00:37<00:00, 25.21it/s]\n",
      "100%|████████████████████████████████████████████████████████████████████████████████| 157/157 [00:04<00:00, 34.99it/s]\n",
      "100%|████████████████████████████████████████████████████████████████████████████████| 938/938 [00:38<00:00, 24.19it/s]\n",
      "100%|████████████████████████████████████████████████████████████████████████████████| 157/157 [00:04<00:00, 32.18it/s]\n",
      "100%|████████████████████████████████████████████████████████████████████████████████| 938/938 [00:40<00:00, 23.32it/s]\n",
      "100%|████████████████████████████████████████████████████████████████████████████████| 157/157 [00:04<00:00, 33.63it/s]\n",
      "100%|████████████████████████████████████████████████████████████████████████████████| 938/938 [00:38<00:00, 24.13it/s]\n",
      "100%|████████████████████████████████████████████████████████████████████████████████| 157/157 [00:05<00:00, 28.02it/s]\n",
      "100%|████████████████████████████████████████████████████████████████████████████████| 938/938 [00:41<00:00, 22.84it/s]\n",
      "100%|████████████████████████████████████████████████████████████████████████████████| 157/157 [00:05<00:00, 26.81it/s]\n",
      "100%|████████████████████████████████████████████████████████████████████████████████| 938/938 [00:37<00:00, 25.12it/s]\n",
      "100%|████████████████████████████████████████████████████████████████████████████████| 157/157 [00:04<00:00, 36.41it/s]\n",
      "100%|████████████████████████████████████████████████████████████████████████████████| 938/938 [00:39<00:00, 24.04it/s]\n",
      "100%|████████████████████████████████████████████████████████████████████████████████| 157/157 [00:04<00:00, 34.96it/s]\n",
      "100%|████████████████████████████████████████████████████████████████████████████████| 938/938 [00:37<00:00, 24.89it/s]\n",
      "100%|████████████████████████████████████████████████████████████████████████████████| 157/157 [00:06<00:00, 26.05it/s]"
     ]
    },
    {
     "name": "stdout",
     "output_type": "stream",
     "text": [
      "   epoch  dropout_rate  train_acc  test_acc\n",
      "0      1          0.10   0.509950    0.9595\n",
      "1      2          0.14   0.539617    0.9722\n",
      "2      3          0.18   0.528117    0.9744\n",
      "3      4          0.22   0.507217    0.9741\n",
      "4      5          0.26   0.489350    0.9754\n",
      "5      6          0.30   0.466383    0.9761\n",
      "6      7          0.34   0.450017    0.9702\n",
      "7      8          0.38   0.430667    0.9723\n",
      "8      9          0.42   0.406050    0.9743\n",
      "9     10          0.46   0.387867    0.9762\n"
     ]
    },
    {
     "name": "stderr",
     "output_type": "stream",
     "text": [
      "\n"
     ]
    }
   ],
   "source": [
    "model_adaptive = FullyConnectedModel(config_path=None, **adaptive_dropout_config)\n",
    "optimizer = optim.Adam(model_adaptive.parameters(), lr=0.001)\n",
    "criterion = nn.CrossEntropyLoss()\n",
    "adaptive_history = []\n",
    "\n",
    "for epoch in range(10):\n",
    "    rate = adaptive_dropout_rate(epoch)\n",
    "    model_adaptive.layers[-1] = nn.Dropout(rate)\n",
    "    \n",
    "    train_loss, train_acc = run_epoch(model_adaptive, train_loader, criterion, optimizer, device)\n",
    "    test_loss, test_acc = run_epoch(model_adaptive, test_loader, criterion, None, device, is_test=True)\n",
    "    \n",
    "    adaptive_history.append({\n",
    "        'epoch': epoch+1,\n",
    "        'dropout_rate': rate,\n",
    "        'train_acc': train_acc,\n",
    "        'test_acc': test_acc\n",
    "    })\n",
    "\n",
    "print(pd.DataFrame(adaptive_history))"
   ]
  },
  {
   "cell_type": "markdown",
   "id": "d4966538",
   "metadata": {},
   "source": [
    "Разные значения momentum в BatchNorm"
   ]
  },
  {
   "cell_type": "code",
   "execution_count": 16,
   "id": "b147b6f4",
   "metadata": {},
   "outputs": [
    {
     "name": "stderr",
     "output_type": "stream",
     "text": [
      "100%|████████████████████████████████████████████████████████████████████████████████| 938/938 [00:35<00:00, 26.62it/s]\n",
      "100%|████████████████████████████████████████████████████████████████████████████████| 157/157 [00:04<00:00, 36.14it/s]\n"
     ]
    },
    {
     "name": "stdout",
     "output_type": "stream",
     "text": [
      "Epoch 1/10:\n",
      "Train Loss: 0.1888, Train Acc: 0.9443\n",
      "Test Loss: 0.1121, Test Acc: 0.9625\n",
      "--------------------------------------------------\n"
     ]
    },
    {
     "name": "stderr",
     "output_type": "stream",
     "text": [
      "100%|████████████████████████████████████████████████████████████████████████████████| 938/938 [00:36<00:00, 25.98it/s]\n",
      "100%|████████████████████████████████████████████████████████████████████████████████| 157/157 [00:05<00:00, 28.41it/s]\n"
     ]
    },
    {
     "name": "stdout",
     "output_type": "stream",
     "text": [
      "Epoch 2/10:\n",
      "Train Loss: 0.0848, Train Acc: 0.9731\n",
      "Test Loss: 0.0778, Test Acc: 0.9754\n",
      "--------------------------------------------------\n"
     ]
    },
    {
     "name": "stderr",
     "output_type": "stream",
     "text": [
      "100%|████████████████████████████████████████████████████████████████████████████████| 938/938 [00:35<00:00, 26.60it/s]\n",
      "100%|████████████████████████████████████████████████████████████████████████████████| 157/157 [00:04<00:00, 36.44it/s]\n"
     ]
    },
    {
     "name": "stdout",
     "output_type": "stream",
     "text": [
      "Epoch 3/10:\n",
      "Train Loss: 0.0619, Train Acc: 0.9805\n",
      "Test Loss: 0.0764, Test Acc: 0.9761\n",
      "--------------------------------------------------\n"
     ]
    },
    {
     "name": "stderr",
     "output_type": "stream",
     "text": [
      "100%|████████████████████████████████████████████████████████████████████████████████| 938/938 [00:36<00:00, 25.66it/s]\n",
      "100%|████████████████████████████████████████████████████████████████████████████████| 157/157 [00:05<00:00, 30.98it/s]\n"
     ]
    },
    {
     "name": "stdout",
     "output_type": "stream",
     "text": [
      "Epoch 4/10:\n",
      "Train Loss: 0.0472, Train Acc: 0.9844\n",
      "Test Loss: 0.0716, Test Acc: 0.9788\n",
      "--------------------------------------------------\n"
     ]
    },
    {
     "name": "stderr",
     "output_type": "stream",
     "text": [
      "100%|████████████████████████████████████████████████████████████████████████████████| 938/938 [00:36<00:00, 25.70it/s]\n",
      "100%|████████████████████████████████████████████████████████████████████████████████| 157/157 [00:04<00:00, 35.83it/s]\n"
     ]
    },
    {
     "name": "stdout",
     "output_type": "stream",
     "text": [
      "Epoch 5/10:\n",
      "Train Loss: 0.0397, Train Acc: 0.9871\n",
      "Test Loss: 0.0638, Test Acc: 0.9803\n",
      "--------------------------------------------------\n"
     ]
    },
    {
     "name": "stderr",
     "output_type": "stream",
     "text": [
      "100%|████████████████████████████████████████████████████████████████████████████████| 938/938 [00:36<00:00, 25.39it/s]\n",
      "100%|████████████████████████████████████████████████████████████████████████████████| 157/157 [00:04<00:00, 35.71it/s]\n"
     ]
    },
    {
     "name": "stdout",
     "output_type": "stream",
     "text": [
      "Epoch 6/10:\n",
      "Train Loss: 0.0318, Train Acc: 0.9894\n",
      "Test Loss: 0.0802, Test Acc: 0.9775\n",
      "--------------------------------------------------\n"
     ]
    },
    {
     "name": "stderr",
     "output_type": "stream",
     "text": [
      "100%|████████████████████████████████████████████████████████████████████████████████| 938/938 [00:38<00:00, 24.42it/s]\n",
      "100%|████████████████████████████████████████████████████████████████████████████████| 157/157 [00:05<00:00, 27.92it/s]\n"
     ]
    },
    {
     "name": "stdout",
     "output_type": "stream",
     "text": [
      "Epoch 7/10:\n",
      "Train Loss: 0.0292, Train Acc: 0.9902\n",
      "Test Loss: 0.0744, Test Acc: 0.9797\n",
      "--------------------------------------------------\n"
     ]
    },
    {
     "name": "stderr",
     "output_type": "stream",
     "text": [
      "100%|████████████████████████████████████████████████████████████████████████████████| 938/938 [00:36<00:00, 25.90it/s]\n",
      "100%|████████████████████████████████████████████████████████████████████████████████| 157/157 [00:04<00:00, 32.32it/s]\n"
     ]
    },
    {
     "name": "stdout",
     "output_type": "stream",
     "text": [
      "Epoch 8/10:\n",
      "Train Loss: 0.0254, Train Acc: 0.9915\n",
      "Test Loss: 0.0748, Test Acc: 0.9792\n",
      "--------------------------------------------------\n"
     ]
    },
    {
     "name": "stderr",
     "output_type": "stream",
     "text": [
      "100%|████████████████████████████████████████████████████████████████████████████████| 938/938 [00:36<00:00, 25.44it/s]\n",
      "100%|████████████████████████████████████████████████████████████████████████████████| 157/157 [00:05<00:00, 30.51it/s]\n"
     ]
    },
    {
     "name": "stdout",
     "output_type": "stream",
     "text": [
      "Epoch 9/10:\n",
      "Train Loss: 0.0192, Train Acc: 0.9935\n",
      "Test Loss: 0.0660, Test Acc: 0.9823\n",
      "--------------------------------------------------\n"
     ]
    },
    {
     "name": "stderr",
     "output_type": "stream",
     "text": [
      "100%|████████████████████████████████████████████████████████████████████████████████| 938/938 [00:38<00:00, 24.29it/s]\n",
      "100%|████████████████████████████████████████████████████████████████████████████████| 157/157 [00:05<00:00, 28.19it/s]\n"
     ]
    },
    {
     "name": "stdout",
     "output_type": "stream",
     "text": [
      "Epoch 10/10:\n",
      "Train Loss: 0.0201, Train Acc: 0.9935\n",
      "Test Loss: 0.0633, Test Acc: 0.9836\n",
      "--------------------------------------------------\n",
      "Momentum 0.1: Final Test Acc = 0.9836\n"
     ]
    },
    {
     "name": "stderr",
     "output_type": "stream",
     "text": [
      "100%|████████████████████████████████████████████████████████████████████████████████| 938/938 [00:35<00:00, 26.70it/s]\n",
      "100%|████████████████████████████████████████████████████████████████████████████████| 157/157 [00:04<00:00, 34.61it/s]\n"
     ]
    },
    {
     "name": "stdout",
     "output_type": "stream",
     "text": [
      "Epoch 1/10:\n",
      "Train Loss: 0.1875, Train Acc: 0.9446\n",
      "Test Loss: 0.1089, Test Acc: 0.9641\n",
      "--------------------------------------------------\n"
     ]
    },
    {
     "name": "stderr",
     "output_type": "stream",
     "text": [
      "100%|████████████████████████████████████████████████████████████████████████████████| 938/938 [00:35<00:00, 26.13it/s]\n",
      "100%|████████████████████████████████████████████████████████████████████████████████| 157/157 [00:05<00:00, 28.11it/s]\n"
     ]
    },
    {
     "name": "stdout",
     "output_type": "stream",
     "text": [
      "Epoch 2/10:\n",
      "Train Loss: 0.0884, Train Acc: 0.9730\n",
      "Test Loss: 0.0780, Test Acc: 0.9751\n",
      "--------------------------------------------------\n"
     ]
    },
    {
     "name": "stderr",
     "output_type": "stream",
     "text": [
      "100%|████████████████████████████████████████████████████████████████████████████████| 938/938 [00:36<00:00, 25.64it/s]\n",
      "100%|████████████████████████████████████████████████████████████████████████████████| 157/157 [00:04<00:00, 35.99it/s]\n"
     ]
    },
    {
     "name": "stdout",
     "output_type": "stream",
     "text": [
      "Epoch 3/10:\n",
      "Train Loss: 0.0617, Train Acc: 0.9801\n",
      "Test Loss: 0.0772, Test Acc: 0.9755\n",
      "--------------------------------------------------\n"
     ]
    },
    {
     "name": "stderr",
     "output_type": "stream",
     "text": [
      "100%|████████████████████████████████████████████████████████████████████████████████| 938/938 [00:36<00:00, 26.03it/s]\n",
      "100%|████████████████████████████████████████████████████████████████████████████████| 157/157 [00:04<00:00, 31.80it/s]\n"
     ]
    },
    {
     "name": "stdout",
     "output_type": "stream",
     "text": [
      "Epoch 4/10:\n",
      "Train Loss: 0.0513, Train Acc: 0.9836\n",
      "Test Loss: 0.0751, Test Acc: 0.9760\n",
      "--------------------------------------------------\n"
     ]
    },
    {
     "name": "stderr",
     "output_type": "stream",
     "text": [
      "100%|████████████████████████████████████████████████████████████████████████████████| 938/938 [00:35<00:00, 26.09it/s]\n",
      "100%|████████████████████████████████████████████████████████████████████████████████| 157/157 [00:04<00:00, 37.00it/s]\n"
     ]
    },
    {
     "name": "stdout",
     "output_type": "stream",
     "text": [
      "Epoch 5/10:\n",
      "Train Loss: 0.0391, Train Acc: 0.9873\n",
      "Test Loss: 0.0903, Test Acc: 0.9720\n",
      "--------------------------------------------------\n"
     ]
    },
    {
     "name": "stderr",
     "output_type": "stream",
     "text": [
      "100%|████████████████████████████████████████████████████████████████████████████████| 938/938 [00:39<00:00, 23.53it/s]\n",
      "100%|████████████████████████████████████████████████████████████████████████████████| 157/157 [00:04<00:00, 36.06it/s]\n"
     ]
    },
    {
     "name": "stdout",
     "output_type": "stream",
     "text": [
      "Epoch 6/10:\n",
      "Train Loss: 0.0334, Train Acc: 0.9889\n",
      "Test Loss: 0.0766, Test Acc: 0.9787\n",
      "--------------------------------------------------\n"
     ]
    },
    {
     "name": "stderr",
     "output_type": "stream",
     "text": [
      "100%|████████████████████████████████████████████████████████████████████████████████| 938/938 [00:35<00:00, 26.40it/s]\n",
      "100%|████████████████████████████████████████████████████████████████████████████████| 157/157 [00:05<00:00, 28.77it/s]\n"
     ]
    },
    {
     "name": "stdout",
     "output_type": "stream",
     "text": [
      "Epoch 7/10:\n",
      "Train Loss: 0.0280, Train Acc: 0.9905\n",
      "Test Loss: 0.0676, Test Acc: 0.9801\n",
      "--------------------------------------------------\n"
     ]
    },
    {
     "name": "stderr",
     "output_type": "stream",
     "text": [
      "100%|████████████████████████████████████████████████████████████████████████████████| 938/938 [00:38<00:00, 24.66it/s]\n",
      "100%|████████████████████████████████████████████████████████████████████████████████| 157/157 [00:04<00:00, 36.19it/s]\n"
     ]
    },
    {
     "name": "stdout",
     "output_type": "stream",
     "text": [
      "Epoch 8/10:\n",
      "Train Loss: 0.0233, Train Acc: 0.9921\n",
      "Test Loss: 0.0724, Test Acc: 0.9804\n",
      "--------------------------------------------------\n"
     ]
    },
    {
     "name": "stderr",
     "output_type": "stream",
     "text": [
      "100%|████████████████████████████████████████████████████████████████████████████████| 938/938 [00:36<00:00, 25.42it/s]\n",
      "100%|████████████████████████████████████████████████████████████████████████████████| 157/157 [00:05<00:00, 29.42it/s]\n"
     ]
    },
    {
     "name": "stdout",
     "output_type": "stream",
     "text": [
      "Epoch 9/10:\n",
      "Train Loss: 0.0215, Train Acc: 0.9926\n",
      "Test Loss: 0.0735, Test Acc: 0.9803\n",
      "--------------------------------------------------\n"
     ]
    },
    {
     "name": "stderr",
     "output_type": "stream",
     "text": [
      "100%|████████████████████████████████████████████████████████████████████████████████| 938/938 [00:35<00:00, 26.21it/s]\n",
      "100%|████████████████████████████████████████████████████████████████████████████████| 157/157 [00:05<00:00, 30.88it/s]\n"
     ]
    },
    {
     "name": "stdout",
     "output_type": "stream",
     "text": [
      "Epoch 10/10:\n",
      "Train Loss: 0.0179, Train Acc: 0.9940\n",
      "Test Loss: 0.0837, Test Acc: 0.9797\n",
      "--------------------------------------------------\n",
      "Momentum 0.5: Final Test Acc = 0.9797\n"
     ]
    },
    {
     "name": "stderr",
     "output_type": "stream",
     "text": [
      "100%|████████████████████████████████████████████████████████████████████████████████| 938/938 [00:36<00:00, 25.99it/s]\n",
      "100%|████████████████████████████████████████████████████████████████████████████████| 157/157 [00:04<00:00, 36.56it/s]\n"
     ]
    },
    {
     "name": "stdout",
     "output_type": "stream",
     "text": [
      "Epoch 1/10:\n",
      "Train Loss: 0.1915, Train Acc: 0.9425\n",
      "Test Loss: 0.0943, Test Acc: 0.9691\n",
      "--------------------------------------------------\n"
     ]
    },
    {
     "name": "stderr",
     "output_type": "stream",
     "text": [
      "100%|████████████████████████████████████████████████████████████████████████████████| 938/938 [00:35<00:00, 26.28it/s]\n",
      "100%|████████████████████████████████████████████████████████████████████████████████| 157/157 [00:05<00:00, 29.68it/s]\n"
     ]
    },
    {
     "name": "stdout",
     "output_type": "stream",
     "text": [
      "Epoch 2/10:\n",
      "Train Loss: 0.0862, Train Acc: 0.9737\n",
      "Test Loss: 0.0771, Test Acc: 0.9763\n",
      "--------------------------------------------------\n"
     ]
    },
    {
     "name": "stderr",
     "output_type": "stream",
     "text": [
      "100%|████████████████████████████████████████████████████████████████████████████████| 938/938 [00:36<00:00, 25.88it/s]\n",
      "100%|████████████████████████████████████████████████████████████████████████████████| 157/157 [00:05<00:00, 30.33it/s]\n"
     ]
    },
    {
     "name": "stdout",
     "output_type": "stream",
     "text": [
      "Epoch 3/10:\n",
      "Train Loss: 0.0609, Train Acc: 0.9801\n",
      "Test Loss: 0.0698, Test Acc: 0.9786\n",
      "--------------------------------------------------\n"
     ]
    },
    {
     "name": "stderr",
     "output_type": "stream",
     "text": [
      "100%|████████████████████████████████████████████████████████████████████████████████| 938/938 [00:38<00:00, 24.56it/s]\n",
      "100%|████████████████████████████████████████████████████████████████████████████████| 157/157 [00:04<00:00, 32.40it/s]\n"
     ]
    },
    {
     "name": "stdout",
     "output_type": "stream",
     "text": [
      "Epoch 4/10:\n",
      "Train Loss: 0.0490, Train Acc: 0.9840\n",
      "Test Loss: 0.0779, Test Acc: 0.9761\n",
      "--------------------------------------------------\n"
     ]
    },
    {
     "name": "stderr",
     "output_type": "stream",
     "text": [
      "100%|████████████████████████████████████████████████████████████████████████████████| 938/938 [00:35<00:00, 26.47it/s]\n",
      "100%|████████████████████████████████████████████████████████████████████████████████| 157/157 [00:04<00:00, 36.92it/s]\n"
     ]
    },
    {
     "name": "stdout",
     "output_type": "stream",
     "text": [
      "Epoch 5/10:\n",
      "Train Loss: 0.0389, Train Acc: 0.9871\n",
      "Test Loss: 0.0671, Test Acc: 0.9785\n",
      "--------------------------------------------------\n"
     ]
    },
    {
     "name": "stderr",
     "output_type": "stream",
     "text": [
      "100%|████████████████████████████████████████████████████████████████████████████████| 938/938 [00:37<00:00, 25.02it/s]\n",
      "100%|████████████████████████████████████████████████████████████████████████████████| 157/157 [00:04<00:00, 35.13it/s]\n"
     ]
    },
    {
     "name": "stdout",
     "output_type": "stream",
     "text": [
      "Epoch 6/10:\n",
      "Train Loss: 0.0332, Train Acc: 0.9895\n",
      "Test Loss: 0.0640, Test Acc: 0.9809\n",
      "--------------------------------------------------\n"
     ]
    },
    {
     "name": "stderr",
     "output_type": "stream",
     "text": [
      "100%|████████████████████████████████████████████████████████████████████████████████| 938/938 [00:36<00:00, 26.01it/s]\n",
      "100%|████████████████████████████████████████████████████████████████████████████████| 157/157 [00:05<00:00, 27.54it/s]\n"
     ]
    },
    {
     "name": "stdout",
     "output_type": "stream",
     "text": [
      "Epoch 7/10:\n",
      "Train Loss: 0.0252, Train Acc: 0.9917\n",
      "Test Loss: 0.0750, Test Acc: 0.9762\n",
      "--------------------------------------------------\n"
     ]
    },
    {
     "name": "stderr",
     "output_type": "stream",
     "text": [
      "100%|████████████████████████████████████████████████████████████████████████████████| 938/938 [00:36<00:00, 26.01it/s]\n",
      "100%|████████████████████████████████████████████████████████████████████████████████| 157/157 [00:04<00:00, 36.90it/s]\n"
     ]
    },
    {
     "name": "stdout",
     "output_type": "stream",
     "text": [
      "Epoch 8/10:\n",
      "Train Loss: 0.0255, Train Acc: 0.9916\n",
      "Test Loss: 0.0684, Test Acc: 0.9805\n",
      "--------------------------------------------------\n"
     ]
    },
    {
     "name": "stderr",
     "output_type": "stream",
     "text": [
      "100%|████████████████████████████████████████████████████████████████████████████████| 938/938 [00:41<00:00, 22.86it/s]\n",
      "100%|████████████████████████████████████████████████████████████████████████████████| 157/157 [00:05<00:00, 29.99it/s]\n"
     ]
    },
    {
     "name": "stdout",
     "output_type": "stream",
     "text": [
      "Epoch 9/10:\n",
      "Train Loss: 0.0236, Train Acc: 0.9923\n",
      "Test Loss: 0.0727, Test Acc: 0.9812\n",
      "--------------------------------------------------\n"
     ]
    },
    {
     "name": "stderr",
     "output_type": "stream",
     "text": [
      "100%|████████████████████████████████████████████████████████████████████████████████| 938/938 [00:36<00:00, 25.71it/s]\n",
      "100%|████████████████████████████████████████████████████████████████████████████████| 157/157 [00:06<00:00, 23.65it/s]"
     ]
    },
    {
     "name": "stdout",
     "output_type": "stream",
     "text": [
      "Epoch 10/10:\n",
      "Train Loss: 0.0206, Train Acc: 0.9929\n",
      "Test Loss: 0.0635, Test Acc: 0.9825\n",
      "--------------------------------------------------\n",
      "Momentum 0.9: Final Test Acc = 0.9825\n"
     ]
    },
    {
     "name": "stderr",
     "output_type": "stream",
     "text": [
      "\n"
     ]
    }
   ],
   "source": [
    "momentum_values = [0.1, 0.5, 0.9]\n",
    "\n",
    "for m in momentum_values:\n",
    "    config = {\n",
    "        \"input_size\": 784,\n",
    "        \"num_classes\": 10,\n",
    "        \"layers\": base_config[\"layers\"] + [\n",
    "            {\"type\": \"batch_norm\", \"momentum\": m}\n",
    "        ]\n",
    "    }\n",
    "    model = FullyConnectedModel(**config).to(device)\n",
    "    history = train_model(model, train_loader, test_loader, epochs=10, device=device)\n",
    "    \n",
    "    print(f\"Momentum {m}: Final Test Acc = {history['test_accs'][-1]:.4f}\")"
   ]
  },
  {
   "cell_type": "markdown",
   "id": "6ff30825",
   "metadata": {},
   "source": [
    "Комбинирование регуляризаций"
   ]
  },
  {
   "cell_type": "code",
   "execution_count": 17,
   "id": "2e51abe0",
   "metadata": {},
   "outputs": [
    {
     "name": "stderr",
     "output_type": "stream",
     "text": [
      "100%|████████████████████████████████████████████████████████████████████████████████| 938/938 [00:38<00:00, 24.56it/s]\n",
      "100%|████████████████████████████████████████████████████████████████████████████████| 157/157 [00:04<00:00, 35.21it/s]\n"
     ]
    },
    {
     "name": "stdout",
     "output_type": "stream",
     "text": [
      "Epoch 1/10:\n",
      "Train Loss: 0.2683, Train Acc: 0.9196\n",
      "Test Loss: 0.1224, Test Acc: 0.9635\n",
      "--------------------------------------------------\n"
     ]
    },
    {
     "name": "stderr",
     "output_type": "stream",
     "text": [
      "100%|████████████████████████████████████████████████████████████████████████████████| 938/938 [00:39<00:00, 23.54it/s]\n",
      "100%|████████████████████████████████████████████████████████████████████████████████| 157/157 [00:04<00:00, 35.78it/s]\n"
     ]
    },
    {
     "name": "stdout",
     "output_type": "stream",
     "text": [
      "Epoch 2/10:\n",
      "Train Loss: 0.1606, Train Acc: 0.9506\n",
      "Test Loss: 0.0946, Test Acc: 0.9693\n",
      "--------------------------------------------------\n"
     ]
    },
    {
     "name": "stderr",
     "output_type": "stream",
     "text": [
      "100%|████████████████████████████████████████████████████████████████████████████████| 938/938 [00:39<00:00, 24.03it/s]\n",
      "100%|████████████████████████████████████████████████████████████████████████████████| 157/157 [00:05<00:00, 28.08it/s]\n"
     ]
    },
    {
     "name": "stdout",
     "output_type": "stream",
     "text": [
      "Epoch 3/10:\n",
      "Train Loss: 0.1360, Train Acc: 0.9583\n",
      "Test Loss: 0.0830, Test Acc: 0.9748\n",
      "--------------------------------------------------\n"
     ]
    },
    {
     "name": "stderr",
     "output_type": "stream",
     "text": [
      "100%|████████████████████████████████████████████████████████████████████████████████| 938/938 [00:37<00:00, 24.75it/s]\n",
      "100%|████████████████████████████████████████████████████████████████████████████████| 157/157 [00:05<00:00, 29.50it/s]\n"
     ]
    },
    {
     "name": "stdout",
     "output_type": "stream",
     "text": [
      "Epoch 4/10:\n",
      "Train Loss: 0.1259, Train Acc: 0.9603\n",
      "Test Loss: 0.0795, Test Acc: 0.9750\n",
      "--------------------------------------------------\n"
     ]
    },
    {
     "name": "stderr",
     "output_type": "stream",
     "text": [
      "100%|████████████████████████████████████████████████████████████████████████████████| 938/938 [00:38<00:00, 24.06it/s]\n",
      "100%|████████████████████████████████████████████████████████████████████████████████| 157/157 [00:04<00:00, 36.49it/s]\n"
     ]
    },
    {
     "name": "stdout",
     "output_type": "stream",
     "text": [
      "Epoch 5/10:\n",
      "Train Loss: 0.1120, Train Acc: 0.9647\n",
      "Test Loss: 0.0721, Test Acc: 0.9768\n",
      "--------------------------------------------------\n"
     ]
    },
    {
     "name": "stderr",
     "output_type": "stream",
     "text": [
      "100%|████████████████████████████████████████████████████████████████████████████████| 938/938 [00:39<00:00, 23.62it/s]\n",
      "100%|████████████████████████████████████████████████████████████████████████████████| 157/157 [00:04<00:00, 31.62it/s]\n"
     ]
    },
    {
     "name": "stdout",
     "output_type": "stream",
     "text": [
      "Epoch 6/10:\n",
      "Train Loss: 0.1033, Train Acc: 0.9679\n",
      "Test Loss: 0.0721, Test Acc: 0.9781\n",
      "--------------------------------------------------\n"
     ]
    },
    {
     "name": "stderr",
     "output_type": "stream",
     "text": [
      "100%|████████████████████████████████████████████████████████████████████████████████| 938/938 [00:39<00:00, 23.51it/s]\n",
      "100%|████████████████████████████████████████████████████████████████████████████████| 157/157 [00:04<00:00, 34.15it/s]\n"
     ]
    },
    {
     "name": "stdout",
     "output_type": "stream",
     "text": [
      "Epoch 7/10:\n",
      "Train Loss: 0.0952, Train Acc: 0.9703\n",
      "Test Loss: 0.0864, Test Acc: 0.9773\n",
      "--------------------------------------------------\n"
     ]
    },
    {
     "name": "stderr",
     "output_type": "stream",
     "text": [
      "100%|████████████████████████████████████████████████████████████████████████████████| 938/938 [00:38<00:00, 24.11it/s]\n",
      "100%|████████████████████████████████████████████████████████████████████████████████| 157/157 [00:05<00:00, 28.56it/s]\n"
     ]
    },
    {
     "name": "stdout",
     "output_type": "stream",
     "text": [
      "Epoch 8/10:\n",
      "Train Loss: 0.0961, Train Acc: 0.9696\n",
      "Test Loss: 0.0710, Test Acc: 0.9780\n",
      "--------------------------------------------------\n"
     ]
    },
    {
     "name": "stderr",
     "output_type": "stream",
     "text": [
      "100%|████████████████████████████████████████████████████████████████████████████████| 938/938 [00:40<00:00, 23.30it/s]\n",
      "100%|████████████████████████████████████████████████████████████████████████████████| 157/157 [00:05<00:00, 29.52it/s]\n"
     ]
    },
    {
     "name": "stdout",
     "output_type": "stream",
     "text": [
      "Epoch 9/10:\n",
      "Train Loss: 0.0914, Train Acc: 0.9710\n",
      "Test Loss: 0.0882, Test Acc: 0.9795\n",
      "--------------------------------------------------\n"
     ]
    },
    {
     "name": "stderr",
     "output_type": "stream",
     "text": [
      "100%|████████████████████████████████████████████████████████████████████████████████| 938/938 [00:39<00:00, 23.57it/s]\n",
      "100%|████████████████████████████████████████████████████████████████████████████████| 157/157 [00:04<00:00, 35.19it/s]"
     ]
    },
    {
     "name": "stdout",
     "output_type": "stream",
     "text": [
      "Epoch 10/10:\n",
      "Train Loss: 0.0825, Train Acc: 0.9740\n",
      "Test Loss: 0.0808, Test Acc: 0.9803\n",
      "--------------------------------------------------\n",
      "Combined reg: Test Acc = 0.9803\n"
     ]
    },
    {
     "name": "stderr",
     "output_type": "stream",
     "text": [
      "\n"
     ]
    }
   ],
   "source": [
    "combined_config = {\n",
    "    \"input_size\": 784,\n",
    "    \"num_classes\": 10,\n",
    "    \"layers\": [\n",
    "        {\"type\": \"linear\", \"size\": 512},\n",
    "        {\"type\": \"relu\"},\n",
    "        {\"type\": \"batch_norm\"},\n",
    "        {\"type\": \"dropout\", \"rate\": 0.3},\n",
    "\n",
    "        {\"type\": \"linear\", \"size\": 256},\n",
    "        {\"type\": \"relu\"},\n",
    "        {\"type\": \"batch_norm\"},\n",
    "        {\"type\": \"dropout\", \"rate\": 0.5}\n",
    "    ]\n",
    "}\n",
    "\n",
    "model_combined = FullyConnectedModel(**combined_config).to(device)\n",
    "history = train_model(model_combined, train_loader, test_loader, epochs=10, device=device)\n",
    "print(f\"Combined reg: Test Acc = {history['test_accs'][-1]:.4f}\")"
   ]
  },
  {
   "cell_type": "markdown",
   "id": "b12eb7da",
   "metadata": {},
   "source": [
    "# Комментарии"
   ]
  },
  {
   "cell_type": "markdown",
   "id": "9f3da54b",
   "metadata": {},
   "source": [
    "Я надеюсь то, что я 1 и 2 пункты ДЗ прокомментировал крайне подробно, вы простите меня за то, что в 3-ем пункте я почти комментарии не писал. Несмотря на то, что я это ДЗ выполняю где-то 6 часов, мне очень все понравилось, интересно. Спасибо за просмотр моей ДЗ (^_^) "
   ]
  },
  {
   "cell_type": "code",
   "execution_count": null,
   "id": "56512baa",
   "metadata": {},
   "outputs": [],
   "source": []
  }
 ],
 "metadata": {
  "kernelspec": {
   "display_name": "Python (newenv)",
   "language": "python",
   "name": "newenv"
  },
  "language_info": {
   "codemirror_mode": {
    "name": "ipython",
    "version": 3
   },
   "file_extension": ".py",
   "mimetype": "text/x-python",
   "name": "python",
   "nbconvert_exporter": "python",
   "pygments_lexer": "ipython3",
   "version": "3.11.7"
  }
 },
 "nbformat": 4,
 "nbformat_minor": 5
}
